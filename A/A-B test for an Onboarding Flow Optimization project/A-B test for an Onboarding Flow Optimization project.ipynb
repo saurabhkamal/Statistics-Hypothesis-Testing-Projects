{
 "cells": [
  {
   "cell_type": "markdown",
   "id": "381ad2b6-789d-4863-b043-53374057f613",
   "metadata": {},
   "source": [
    "# A/B test for an Onboarding Flow Optimization project\n",
    "\n",
    "### Introduction\n",
    "\n",
    "This project aims to assess the impact of a newly designed onboarding flow on user engagement and retention for a neo bank, simulating a real-world A/B test scenario. As part of the bank's growth strategy, optimizing the onboarding process is crucial to ensure that new users have a smooth and engaging experience from the start. A positive onboarding experience can significantly improve the rate of users who complete the onboarding process, which is often correlated with increased engagement and longer-term retention.\n",
    "\n",
    "The A/B testing experiment involves two groups of users:\n",
    "1. **Control Group**: Users who experience the existing onboarding flow.\n",
    "2. **Test Group**: Users introduced to the new, optimized onboarding flow.\n",
    "\n",
    "The study focuses on three key metrics:\n",
    "- **Onboarding Completion Rate**: The proportion of users who complete the onboarding process.\n",
    "- **Retention Rate on Day 7 and Day 30**: The percentage of users who continue to engage with the app on the 7th and 30th days post-signup.\n",
    "- **Sessions within the First Week**: The average number of sessions each user completes within their first week, serving as a measure of initial engagement.\n",
    "\n",
    "To accurately assess the impact of the new onboarding flow, we follow a structured approach, beginning with data generation and manipulation, sample size calculation, and exploratory data analysis. Following best practices for statistical rigor, we evaluate data distribution, test assumptions like homogeneity of variances, and ultimately select the most suitable statistical tests to compare the two groups.\n",
    "\n",
    "This project aims to provide actionable insights into whether the optimized onboarding flow drives significant improvements in user engagement and retention metrics, helping inform future decisions on user acquisition and experience design for the bank. By enhancing the onboarding experience, the bank aims to convert more users into active customers, thereby increasing customer lifetime value and fostering growth.\n",
    "\n",
    "### Necessary Steps:\n",
    "**- Step 1: Import Necessary Libraries**\n",
    "\n",
    "**- Step 2: Generate a Synthetic Dataset**\n",
    "\n",
    "**- Step 3: Sample Size Calculation for A/B Testing**\n",
    "\n",
    "**- Step 4: Designing Experiment: Formulating Hypothesis**\n",
    "\n",
    "**- Step 5: Statistical Test: Selecting the most suitable statistical tests**\n",
    "\n",
    "    - Step 5.1: Data Type Check\n",
    "    - Step 5.2: Check Data Distribution (Normality Check-Shapiro-Wilk test)\n",
    "\t- Step 5.3: Homogeneity of Variances (Levene’s Test)\n",
    "\t- Step 5.4: Decision to Select the Appropriate Statistical Test\n",
    "\t- Step 5.5: Perform the Tests Based on Results\n",
    "             1: Chi-square test\n",
    "             2: Mann-Whitney U\n",
    " \n",
    "**- Step 6: Visualization**\n",
    "\n",
    "**- Step 7: Checking for practical signficance or Investigating and Ensuring the robustness of the test results**\n",
    "\n",
    "    1. Effect Size Analysis\n",
    "\t2. Re-sample for Robustness: bootstrap samples\n",
    " \n",
    "**- Step 8: Conclusion & Recommendations**\n"
   ]
  },
  {
   "cell_type": "markdown",
   "id": "04a39c20-f14c-477c-a6a1-67ec5b8281d9",
   "metadata": {},
   "source": [
    "## Step 1: Import Necessary Libraries"
   ]
  },
  {
   "cell_type": "code",
   "execution_count": 1,
   "id": "9faf2a6d-d506-4eea-ab71-ecd4615d6bb3",
   "metadata": {},
   "outputs": [],
   "source": [
    "import numpy as np\n",
    "import pandas as pd\n",
    "import matplotlib.pyplot as plt\n",
    "import seaborn as sns\n",
    "from scipy.stats import ttest_ind, chi2_contingency, norm\n",
    "import statsmodels.api as sm\n",
    "import statsmodels.stats.api as sms\n",
    "from statsmodels.stats.power import TTestIndPower\n",
    "import random\n"
   ]
  },
  {
   "cell_type": "markdown",
   "id": "f242c269-28af-4e43-b8ff-51bf9ff6395c",
   "metadata": {},
   "source": [
    "## Step 2: Generate a Synthetic Dataset\n",
    "\n",
    "Let’s create a synthetic dataset for a neo bank’s onboarding process. We'll simulate two groups of users:\n",
    "\n",
    "- Control Group (A): Users experiencing the existing onboarding flow.\n",
    "- Test Group (B): Users experiencing a new, optimized onboarding flow.\n",
    "\n",
    "We'll simulate the following features:\n",
    "\n",
    "- `user_id`: Unique identifier for each user.\n",
    "- `group`: Control (A) or Test (B).\n",
    "- `onboarding_completion`: Whether the user completed the onboarding flow (1 = Yes, 0 = No).\n",
    "- `sessions_within_week`: Number of sessions within the first week after sign-up.\n",
    "- `retained_day_7`: Whether the user was retained by day 7 (1 = Yes, 0 = No).\n",
    "- `retained_day_30`: Whether the user was retained by day 30 (1 = Yes, 0 = No).\n",
    "\n",
    "**Define Parameters for Simulation**\n",
    "\n",
    "Set the sample size and probabilities for each group."
   ]
  },
  {
   "cell_type": "code",
   "execution_count": 2,
   "id": "6b672701-51b2-4c2a-b18e-3eae514e2b86",
   "metadata": {},
   "outputs": [],
   "source": [
    "# Define sample sizes and probabilities\n",
    "np.random.seed(42)  # For reproducibility\n",
    "sample_size = 10000  # Large-scale sample size\n",
    "\n",
    "# Probabilities for the control and test groups\n",
    "p_onboarding_completion_control = 0.7  # 70% complete onboarding in control\n",
    "p_onboarding_completion_test = 0.75  # 75% complete onboarding in test \n",
    "\n",
    "p_retained_day_7_control = 0.5  # 50% retention by day 7 in control\n",
    "p_retained_day_7_test = 0.55  # 55% retention by day 7 in test\n",
    "\n",
    "p_retained_day_30_control = 0.3  # 30% retention by day 30 in control\n",
    "p_retained_day_30_test = 0.35  # 35% retention by day 30 in test\n"
   ]
  },
  {
   "cell_type": "markdown",
   "id": "ab51c02d-95b1-4cd5-93e7-296a828707a2",
   "metadata": {},
   "source": [
    "**Generate Data**"
   ]
  },
  {
   "cell_type": "code",
   "execution_count": 3,
   "id": "2c4999ba-1def-4292-8854-3a17bcaa43e5",
   "metadata": {},
   "outputs": [],
   "source": [
    "# Initialize lists to store data\n",
    "data = {\n",
    "    \"user_id\" : range(1, sample_size + 1),\n",
    "    \"group\" : np.random.choice([\"A\",\"B\"], size=sample_size),\n",
    "}\n",
    "\n",
    "# Simulate onboarding completion based on group\n",
    "data[\"onboarding_completion\"] = [np.random.binomial(1, p_onboarding_completion_control if group == \"A\" else p_onboarding_completion_test)\n",
    "                                 for group in data[\"group\"]]\n",
    "\n",
    "# Simulate number of sessions within the first week based on onboarding completion and group\n",
    "data[\"sessions_within_week\"] = [int(np.random.poisson(3) + 1) if completed == 1 else 0 for completed in data[\"onboarding_completion\"]]\n",
    "\n",
    "# Simulate day 7 retention based on group\n",
    "data[\"retained_day_7\"] = [np.random.binomial(1, p_retained_day_7_control if group == \"A\" else p_retained_day_7_test) for group in data[\"group\"]]\n",
    "\n",
    "# Simulate day 30 retention based on group\n",
    "data[\"retained_day_30\"] = [np.random.binomial(1, p_retained_day_30_control if group == \"A\" else p_retained_day_30_test) for group in data[\"group\"]]\n",
    "\n",
    "# Create DataFrame\n",
    "df = pd.DataFrame(data)"
   ]
  },
  {
   "cell_type": "code",
   "execution_count": 4,
   "id": "b49149ff-26f6-4d28-966d-3b64f85254f5",
   "metadata": {},
   "outputs": [
    {
     "data": {
      "text/html": [
       "<div>\n",
       "<style scoped>\n",
       "    .dataframe tbody tr th:only-of-type {\n",
       "        vertical-align: middle;\n",
       "    }\n",
       "\n",
       "    .dataframe tbody tr th {\n",
       "        vertical-align: top;\n",
       "    }\n",
       "\n",
       "    .dataframe thead th {\n",
       "        text-align: right;\n",
       "    }\n",
       "</style>\n",
       "<table border=\"1\" class=\"dataframe\">\n",
       "  <thead>\n",
       "    <tr style=\"text-align: right;\">\n",
       "      <th></th>\n",
       "      <th>user_id</th>\n",
       "      <th>group</th>\n",
       "      <th>onboarding_completion</th>\n",
       "      <th>sessions_within_week</th>\n",
       "      <th>retained_day_7</th>\n",
       "      <th>retained_day_30</th>\n",
       "    </tr>\n",
       "  </thead>\n",
       "  <tbody>\n",
       "    <tr>\n",
       "      <th>0</th>\n",
       "      <td>1</td>\n",
       "      <td>A</td>\n",
       "      <td>1</td>\n",
       "      <td>4</td>\n",
       "      <td>1</td>\n",
       "      <td>0</td>\n",
       "    </tr>\n",
       "    <tr>\n",
       "      <th>1</th>\n",
       "      <td>2</td>\n",
       "      <td>B</td>\n",
       "      <td>1</td>\n",
       "      <td>2</td>\n",
       "      <td>1</td>\n",
       "      <td>1</td>\n",
       "    </tr>\n",
       "    <tr>\n",
       "      <th>2</th>\n",
       "      <td>3</td>\n",
       "      <td>A</td>\n",
       "      <td>0</td>\n",
       "      <td>0</td>\n",
       "      <td>1</td>\n",
       "      <td>0</td>\n",
       "    </tr>\n",
       "    <tr>\n",
       "      <th>3</th>\n",
       "      <td>4</td>\n",
       "      <td>A</td>\n",
       "      <td>1</td>\n",
       "      <td>4</td>\n",
       "      <td>0</td>\n",
       "      <td>0</td>\n",
       "    </tr>\n",
       "    <tr>\n",
       "      <th>4</th>\n",
       "      <td>5</td>\n",
       "      <td>A</td>\n",
       "      <td>0</td>\n",
       "      <td>0</td>\n",
       "      <td>0</td>\n",
       "      <td>0</td>\n",
       "    </tr>\n",
       "    <tr>\n",
       "      <th>...</th>\n",
       "      <td>...</td>\n",
       "      <td>...</td>\n",
       "      <td>...</td>\n",
       "      <td>...</td>\n",
       "      <td>...</td>\n",
       "      <td>...</td>\n",
       "    </tr>\n",
       "    <tr>\n",
       "      <th>9995</th>\n",
       "      <td>9996</td>\n",
       "      <td>B</td>\n",
       "      <td>1</td>\n",
       "      <td>3</td>\n",
       "      <td>0</td>\n",
       "      <td>0</td>\n",
       "    </tr>\n",
       "    <tr>\n",
       "      <th>9996</th>\n",
       "      <td>9997</td>\n",
       "      <td>A</td>\n",
       "      <td>1</td>\n",
       "      <td>4</td>\n",
       "      <td>1</td>\n",
       "      <td>1</td>\n",
       "    </tr>\n",
       "    <tr>\n",
       "      <th>9997</th>\n",
       "      <td>9998</td>\n",
       "      <td>B</td>\n",
       "      <td>1</td>\n",
       "      <td>4</td>\n",
       "      <td>1</td>\n",
       "      <td>0</td>\n",
       "    </tr>\n",
       "    <tr>\n",
       "      <th>9998</th>\n",
       "      <td>9999</td>\n",
       "      <td>B</td>\n",
       "      <td>1</td>\n",
       "      <td>4</td>\n",
       "      <td>1</td>\n",
       "      <td>1</td>\n",
       "    </tr>\n",
       "    <tr>\n",
       "      <th>9999</th>\n",
       "      <td>10000</td>\n",
       "      <td>A</td>\n",
       "      <td>1</td>\n",
       "      <td>2</td>\n",
       "      <td>1</td>\n",
       "      <td>1</td>\n",
       "    </tr>\n",
       "  </tbody>\n",
       "</table>\n",
       "<p>10000 rows × 6 columns</p>\n",
       "</div>"
      ],
      "text/plain": [
       "      user_id group  onboarding_completion  sessions_within_week  \\\n",
       "0           1     A                      1                     4   \n",
       "1           2     B                      1                     2   \n",
       "2           3     A                      0                     0   \n",
       "3           4     A                      1                     4   \n",
       "4           5     A                      0                     0   \n",
       "...       ...   ...                    ...                   ...   \n",
       "9995     9996     B                      1                     3   \n",
       "9996     9997     A                      1                     4   \n",
       "9997     9998     B                      1                     4   \n",
       "9998     9999     B                      1                     4   \n",
       "9999    10000     A                      1                     2   \n",
       "\n",
       "      retained_day_7  retained_day_30  \n",
       "0                  1                0  \n",
       "1                  1                1  \n",
       "2                  1                0  \n",
       "3                  0                0  \n",
       "4                  0                0  \n",
       "...              ...              ...  \n",
       "9995               0                0  \n",
       "9996               1                1  \n",
       "9997               1                0  \n",
       "9998               1                1  \n",
       "9999               1                1  \n",
       "\n",
       "[10000 rows x 6 columns]"
      ]
     },
     "execution_count": 4,
     "metadata": {},
     "output_type": "execute_result"
    }
   ],
   "source": [
    "df"
   ]
  },
  {
   "cell_type": "code",
   "execution_count": 27,
   "id": "f7098c36-cbb3-4933-8bf1-57572407dbfd",
   "metadata": {},
   "outputs": [],
   "source": [
    "df.to_csv('data.csv', index=False)"
   ]
  },
  {
   "cell_type": "markdown",
   "id": "5b5c22d0-1f4f-457e-833c-1b8b3067d683",
   "metadata": {},
   "source": [
    "**Check for any anomalies or missing values and perform basic validation.**"
   ]
  },
  {
   "cell_type": "code",
   "execution_count": 5,
   "id": "e61734b4-5977-43a0-9b37-55bf1c2d91fa",
   "metadata": {},
   "outputs": [
    {
     "name": "stdout",
     "output_type": "stream",
     "text": [
      "           user_id  onboarding_completion  sessions_within_week  \\\n",
      "count  10000.00000           10000.000000          10000.000000   \n",
      "mean    5000.50000               0.727600              2.920300   \n",
      "std     2886.89568               0.445217              2.317042   \n",
      "min        1.00000               0.000000              0.000000   \n",
      "25%     2500.75000               0.000000              0.000000   \n",
      "50%     5000.50000               1.000000              3.000000   \n",
      "75%     7500.25000               1.000000              5.000000   \n",
      "max    10000.00000               1.000000             12.000000   \n",
      "\n",
      "       retained_day_7  retained_day_30  \n",
      "count    10000.000000     10000.000000  \n",
      "mean         0.520800         0.327100  \n",
      "std          0.499592         0.469178  \n",
      "min          0.000000         0.000000  \n",
      "25%          0.000000         0.000000  \n",
      "50%          1.000000         0.000000  \n",
      "75%          1.000000         1.000000  \n",
      "max          1.000000         1.000000  \n",
      "user_id                  0\n",
      "group                    0\n",
      "onboarding_completion    0\n",
      "sessions_within_week     0\n",
      "retained_day_7           0\n",
      "retained_day_30          0\n",
      "dtype: int64\n"
     ]
    }
   ],
   "source": [
    "# Basic summary statistics\n",
    "print(df.describe())\n",
    "\n",
    "# Check for missing values\n",
    "print(df.isnull().sum())\n"
   ]
  },
  {
   "cell_type": "code",
   "execution_count": 6,
   "id": "3a0a6c43-7253-4dc5-b512-7bdbf6a8173d",
   "metadata": {},
   "outputs": [
    {
     "data": {
      "text/html": [
       "<div>\n",
       "<style scoped>\n",
       "    .dataframe tbody tr th:only-of-type {\n",
       "        vertical-align: middle;\n",
       "    }\n",
       "\n",
       "    .dataframe tbody tr th {\n",
       "        vertical-align: top;\n",
       "    }\n",
       "\n",
       "    .dataframe thead th {\n",
       "        text-align: right;\n",
       "    }\n",
       "</style>\n",
       "<table border=\"1\" class=\"dataframe\">\n",
       "  <thead>\n",
       "    <tr style=\"text-align: right;\">\n",
       "      <th></th>\n",
       "      <th>user_id</th>\n",
       "      <th>group</th>\n",
       "      <th>onboarding_completion</th>\n",
       "      <th>sessions_within_week</th>\n",
       "      <th>retained_day_7</th>\n",
       "      <th>retained_day_30</th>\n",
       "    </tr>\n",
       "  </thead>\n",
       "  <tbody>\n",
       "    <tr>\n",
       "      <th>0</th>\n",
       "      <td>1</td>\n",
       "      <td>A</td>\n",
       "      <td>1</td>\n",
       "      <td>4</td>\n",
       "      <td>1</td>\n",
       "      <td>0</td>\n",
       "    </tr>\n",
       "  </tbody>\n",
       "</table>\n",
       "</div>"
      ],
      "text/plain": [
       "   user_id group  onboarding_completion  sessions_within_week  retained_day_7  \\\n",
       "0        1     A                      1                     4               1   \n",
       "\n",
       "   retained_day_30  \n",
       "0                0  "
      ]
     },
     "execution_count": 6,
     "metadata": {},
     "output_type": "execute_result"
    }
   ],
   "source": [
    "df.head(1)"
   ]
  },
  {
   "cell_type": "markdown",
   "id": "0461e5df-eb6b-429f-98b8-9d3b78d64c81",
   "metadata": {},
   "source": [
    "**Data Aggregation**\n",
    "\n",
    "Calculate summary statistics for each group to prepare for comparison."
   ]
  },
  {
   "cell_type": "code",
   "execution_count": 7,
   "id": "f74950ed-e900-47bb-8d02-c3496d27be16",
   "metadata": {},
   "outputs": [
    {
     "name": "stdout",
     "output_type": "stream",
     "text": [
      "  group  total_users  onboarding_completion_rate  avg_sessions_within_week  \\\n",
      "0     A         5013                    0.702374                  2.791941   \n",
      "1     B         4987                    0.752958                  3.049328   \n",
      "\n",
      "   retention_rate_day_7  retention_rate_day_30  \n",
      "0              0.498304               0.306204  \n",
      "1              0.543413               0.348105  \n"
     ]
    }
   ],
   "source": [
    "# Calculating onboarding completion rates, day 7 retention, and day 30 retention rates for each group\n",
    "summary_stats = df.groupby(\"group\").agg(total_users=(\"user_id\", \"size\"),\n",
    "                                        onboarding_completion_rate=(\"onboarding_completion\", \"mean\"),\n",
    "                                        avg_sessions_within_week=(\"sessions_within_week\", \"mean\"),\n",
    "                                        retention_rate_day_7=(\"retained_day_7\", \"mean\"),\n",
    "                                        retention_rate_day_30=(\"retained_day_30\",\"mean\")\n",
    "                                       ).reset_index()\n",
    "\n",
    "print(summary_stats)"
   ]
  },
  {
   "cell_type": "markdown",
   "id": "4b06f726-d1af-4815-92e8-43aefb826ebe",
   "metadata": {},
   "source": [
    "## Step 3: Sample Size Calculation for A/B Testing\n",
    "Use TTestIndPower to calculate the required sample size."
   ]
  },
  {
   "cell_type": "code",
   "execution_count": 8,
   "id": "72084432-3e86-4572-a25f-981af566a661",
   "metadata": {},
   "outputs": [
    {
     "name": "stdout",
     "output_type": "stream",
     "text": [
      "Required sample size per group: 1251\n"
     ]
    }
   ],
   "source": [
    "# Define parameters for power analysis\n",
    "effect_size = sms.proportion_effectsize(p_onboarding_completion_control, p_onboarding_completion_test)  # Effect size\n",
    "alpha = 0.05  # Significance level\n",
    "power = 0.8  # Desired power\n",
    "\n",
    "# Calculate sample size needed\n",
    "analysis = TTestIndPower()\n",
    "sample_size_required = analysis.solve_power(effect_size=effect_size, power=power, alpha=alpha, ratio=1)\n",
    "print(f\"Required sample size per group: {sample_size_required:.0f}\")\n"
   ]
  },
  {
   "cell_type": "markdown",
   "id": "52fe6c06-353d-4b26-aeda-03941f31191e",
   "metadata": {},
   "source": [
    "## Step 4: Designing Experiment: Formulating Hypothesis\n",
    "Conduct hypothesis tests to compare the two groups on key metrics.\n",
    "\n",
    "<b>1. Onboarding Completion Rate</b>\n",
    "- <b>Null Hypothesis (H₀):</b> There is no difference in the onboarding completion rate between the control group (A) and the test group (B). In other words, the new onboarding flow does not improve the completion rate.\n",
    "\n",
    "**𝐻0:𝑝𝐴 = 𝑝𝐵**\n",
    "​\n",
    "- <b>Alternate Hypothesis (H₁)</b>: The onboarding completion rate is different between the control group and the test group. Specifically, we are looking for an increase in the test group.\n",
    "\n",
    "**𝐻1:𝑝𝐴 ≠ 𝑝𝐵**\n",
    "\n",
    "- <b>Decision Rule</b>: Based on the p-value from the statistical test:\n",
    "\n",
    "    - If p-value < α (e.g., α = 0.05), reject the null hypothesis, meaning there is a statistically significant difference in onboarding completion rates between the two groups.\n",
    "\n",
    "    - If p-value ≥ α, fail to reject the null hypothesis, indicating no statistically significant difference in completion rates.\n",
    "\n",
    "<b>2. Day 7 Retention Rate</b>\n",
    "- <b>Null Hypothesis (H₀):</b> There is no difference in Day 7 retention rate between the control group and the test group.\n",
    "\n",
    "**𝐻0:𝑝𝐴,7 = 𝑝𝐵,7**\n",
    "\n",
    "- <b>Alternate Hypothesis (H₁):</b> The Day 7 retention rate is different between the control group and the test group.\n",
    "\n",
    "**𝐻1:𝑝𝐴,7 ≠ 𝑝𝐵,7**\n",
    "\n",
    "- <b>Decision Rule:</b>\n",
    "\n",
    "- If p-value < α (e.g., α = 0.05), reject the null hypothesis, suggesting a statistically significant difference in Day 7 retention between groups.\n",
    "- If p-value ≥ α, fail to reject the null hypothesis, meaning we do not have enough evidence to say there’s a difference in retention rates at Day 7.\n",
    "\n",
    "<b>3. Day 30 Retention Rate</b>\n",
    "- <b>Null Hypothesis (H₀):</b> There is no difference in Day 30 retention rate between the control and test groups.\n",
    "\n",
    "**𝐻0:𝑝𝐴,30 = 𝑝𝐵,30**\n",
    "\n",
    "- <b>Alternate Hypothesis (H₁):</b> The Day 30 retention rate is different between the control group and the test group.\n",
    "\n",
    "**𝐻1:𝑝𝐴,30 ≠ 𝑝𝐵,30**\n",
    "\n",
    "- <b>Decision Rule:</b>\n",
    "\n",
    "- If p-value < α (e.g., α = 0.05), reject the null hypothesis, suggesting a statistically significant difference in Day 30 retention rates.\n",
    "- If p-value ≥ α, fail to reject the null hypothesis, meaning no significant difference is detected for Day 30 retention.\n",
    "\n",
    "\n",
    "<b> 4. Sessions within a week</b>\n",
    "\n",
    "- <b>Null Hypothesis (H₀):</b> A significant difference in session counts.\n",
    "\n",
    "**𝐻0:𝑝𝐴 ≠ 𝑝𝐵**\n",
    "\n",
    "- <b>Alternate Hypothesis (H₁):</b>  No significant difference in session counts.\n",
    "\n",
    "**𝐻1:𝑝𝐴 = 𝑝𝐵**"
   ]
  },
  {
   "cell_type": "markdown",
   "id": "4487263b-cc27-4e8a-95a0-71b7ec311723",
   "metadata": {},
   "source": [
    "## Step 5: Statistical Test: Selecting the most suitable statistical tests\n",
    "\n",
    "### Step 5.1: Data Type Check\n",
    "\n",
    "- Onboarding Completion: Binary (1 for completion, 0 for no completion).\n",
    "- Retention Day 7 and Day 30: Binary (1 for retention, 0 for no retention).\n",
    "- Sessions Within Week: Count data (0, 1, 2, …).\n",
    "\n",
    "Since onboarding completion and retention rates are binary, the proportion test (or a chi-square test) may be more appropriate than a t-test. For count data (sessions within the week), a Poisson test or non-parametric test (like the Mann-Whitney U test) might be better."
   ]
  },
  {
   "cell_type": "markdown",
   "id": "2ecd8592-ee27-4010-86e2-5281149b9666",
   "metadata": {},
   "source": [
    "### Step 5.2: Check Data Distribution (Normality Check)\n",
    "\n",
    "Let's assess if each group is normally distributed using Shapiro-Wilk Test and histograms."
   ]
  },
  {
   "cell_type": "code",
   "execution_count": 9,
   "id": "6ee00ef0-027d-4968-aa8d-b30de122fc8a",
   "metadata": {},
   "outputs": [
    {
     "name": "stderr",
     "output_type": "stream",
     "text": [
      "C:\\Users\\Saurabh Kamal\\Program Files\\anaconda3\\Lib\\site-packages\\scipy\\stats\\_morestats.py:1882: UserWarning: p-value may not be accurate for N > 5000.\n",
      "  warnings.warn(\"p-value may not be accurate for N > 5000.\")\n"
     ]
    },
    {
     "name": "stdout",
     "output_type": "stream",
     "text": [
      "Control Group Normality Test: W=0.909, p=0.000\n",
      "Test Group Normality Test: W=0.928, p=0.000\n"
     ]
    },
    {
     "data": {
      "image/png": "[encoded data removed]",
      "text/plain": [
       "<Figure size 1200x600 with 1 Axes>"
      ]
     },
     "metadata": {},
     "output_type": "display_data"
    }
   ],
   "source": [
    "from scipy.stats import shapiro\n",
    "\n",
    "# Check normality for sessions within the week for each group\n",
    "sessions_control = df[df['group'] == 'A']['sessions_within_week']\n",
    "sessions_test = df[df['group'] == 'B']['sessions_within_week']\n",
    "\n",
    "# Shapiro-Wilk test for normality\n",
    "stat_control, p_control = shapiro(sessions_control)\n",
    "stat_test, p_test = shapiro(sessions_test)\n",
    "\n",
    "print(f\"Control Group Normality Test: W={stat_control:.3f}, p={p_control:.3f}\")\n",
    "print(f\"Test Group Normality Test: W={stat_test:.3f}, p={p_test:.3f}\")\n",
    "\n",
    "# Visualization\n",
    "plt.figure(figsize=(12, 6))\n",
    "sns.histplot(sessions_control, kde=True, color='blue', label='Control Group')\n",
    "sns.histplot(sessions_test, kde=True, color='red', label='Test Group')\n",
    "plt.title(\"Histogram of Sessions Within Week by Group\")\n",
    "plt.xlabel(\"Number of Sessions\")\n",
    "plt.legend()\n",
    "plt.show()\n"
   ]
  },
  {
   "cell_type": "markdown",
   "id": "75bdb7be-2579-484f-b0ca-00bf7a90cf56",
   "metadata": {},
   "source": [
    "The **Shapiro-Wilk test** results you provided are as follows:\n",
    "\n",
    "- **Control Group Normality Test**: \\( W = 0.909 \\), \\( p = 0.000 \\)\n",
    "- **Test Group Normality Test**: \\( W = 0.928 \\), \\( p = 0.000 \\)\n",
    "\n",
    "The **p-values** for both tests are **0.000**, which is below the common significance level of 0.05.\n",
    "\n",
    "### Interpretation of Shapiro-Wilk Test Results\n",
    "\n",
    "- The null hypothesis for the Shapiro-Wilk test is that the data **follows a normal distribution**.\n",
    "- Since the **p-values are less than 0.05** for both groups, we **reject the null hypothesis**.\n",
    "\n",
    "### Conclusion\n",
    "\n",
    "Based on the Shapiro-Wilk test results:\n",
    "- **The data is not normally distributed** for either the control or test group.\n",
    "\n",
    "This finding suggests that:\n",
    "- The **t-test**, which assumes normality, may not be the best choice.\n",
    "- We should consider **non-parametric alternatives** that do not assume normality, such as the **Mann-Whitney U test** for comparing distributions between our specific metrics?"
   ]
  },
  {
   "cell_type": "markdown",
   "id": "c17184b6-3117-4bc8-9661-fed5678af1a9",
   "metadata": {},
   "source": [
    "### Step 5.3.Homogeneity of Variances (Levene’s Test)\n",
    "\n",
    "To confirm whether we should use the standard t-test or Welch’s t-test, we need to check if variances between the control and test groups are equal. For binary outcomes, this is less relevant, but for count data (sessions), it’s essential."
   ]
  },
  {
   "cell_type": "code",
   "execution_count": 10,
   "id": "3dd875dc-0194-4559-ae65-0b73fccc77a2",
   "metadata": {},
   "outputs": [
    {
     "name": "stdout",
     "output_type": "stream",
     "text": [
      "Levene’s Test for Equality of Variances: Statistic=5.018, p=0.025\n"
     ]
    }
   ],
   "source": [
    "from scipy.stats import levene\n",
    "\n",
    "# Levene’s Test for Equality of Variances\n",
    "stat, p_value_levene = levene(sessions_control, sessions_test)\n",
    "print(f\"Levene’s Test for Equality of Variances: Statistic={stat:.3f}, p={p_value_levene:.3f}\")\n"
   ]
  },
  {
   "cell_type": "markdown",
   "id": "7ac4b177-306c-42c4-8d82-dd3519ec4e6a",
   "metadata": {},
   "source": [
    "The **Levene’s test** results you provided are as follows:\r\n",
    "\r\n",
    "- **Statistic**: 5.018\r\n",
    "- **p-value**: 0.025\r\n",
    "\r\n",
    "### Interpretation of Levene’s Test Results\r\n",
    "\r\n",
    "- The null hypothesis for Levene’s test is that the **variances of the two groups are equal**.\r\n",
    "- Since the **p-value is 0.025**, which is below the common significance level of 0.05, we **reject the null hypothesis**.\r\n",
    "\r\n",
    "### Conclusion\r\n",
    "\r\n",
    "Based on Levene’s test results:\r\n",
    "- **There is no equality of variances** between the control and test groups.\r\n",
    "\r\n",
    "This result suggests that:\r\n",
    "- We should use a test that does not assume equal variances, such as **Welch's t-test** if the data were normally distributed.\r\n",
    "- However, since the data is not normally distributed (as confirmed by the Shapiro-Wilk test), a **non-parametric alternative** like the **Mann-Whitney U test** is more appropriate, as it does not assume normality or eparametric options?"
   ]
  },
  {
   "cell_type": "markdown",
   "id": "e0976be2-dc8d-4e80-b1d8-6c2b5aa4e8a2",
   "metadata": {},
   "source": [
    "### Step 5.4. Decision to Select the Appropriate Statistical Test\n",
    "\n",
    "Based on these checks, here are possible tests for each metric:\n",
    "\n",
    "- **Onboarding Completion and Retention Rates:** Since these are binary outcomes, use the Chi-square test.\n",
    "- **Sessions Within Week:** If non-normal and variances are unequal, use a non-parametric Mann-Whitney U test instead of the t-test."
   ]
  },
  {
   "cell_type": "markdown",
   "id": "11b411cb-37c5-4190-a3a0-1ffb8798b06d",
   "metadata": {},
   "source": [
    "### Step 5.5. Perform the Tests Based on Results"
   ]
  },
  {
   "cell_type": "markdown",
   "id": "d0d63229-066d-4531-a9ee-3528db286615",
   "metadata": {},
   "source": [
    "**Onboarding Completion Rate Test (Chi-Square Test)**"
   ]
  },
  {
   "cell_type": "code",
   "execution_count": 11,
   "id": "f1bb571f-a6d9-4f85-a321-4f959ad02880",
   "metadata": {},
   "outputs": [
    {
     "name": "stdout",
     "output_type": "stream",
     "text": [
      "Chi-square Test for Onboarding Completion Rate:\n",
      "Chi2 Statistic: 32.020, p-value: 0.000\n",
      "Reject the null hypothesis\n",
      "Conclusion: The new onboarding flow (Test Group) improves the completion rate.\n"
     ]
    }
   ],
   "source": [
    "from scipy.stats import chi2_contingency\n",
    "\n",
    "# Onboarding Completion Chi-square test\n",
    "completion_table = pd.crosstab(df['group'], df['onboarding_completion'])\n",
    "chi2, p_value_completion, _, _ = chi2_contingency(completion_table)\n",
    "print(f\"Chi-square Test for Onboarding Completion Rate:\\nChi2 Statistic: {chi2:.3f}, p-value: {p_value_completion:.3f}\")\n",
    "\n",
    "if p_value_completion < alpha:\n",
    "    print(\"Reject the null hypothesis\")\n",
    "else:\n",
    "    print(\"Fail to reject the null hypothesis\")\n",
    "\n",
    "if p_value_completion < alpha:\n",
    "    print(\"Conclusion: The new onboarding flow (Test Group) improves the completion rate.\")\n",
    "else:\n",
    "    print(\"Conclusion: No significant difference in completion rate between the two groups.\")"
   ]
  },
  {
   "cell_type": "markdown",
   "id": "5fb9159b-359e-4d97-933b-77cf3af03c5d",
   "metadata": {},
   "source": [
    "**Retention Rate Test for Day 7 and Day 30**"
   ]
  },
  {
   "cell_type": "code",
   "execution_count": 12,
   "id": "d593dd98-0c51-4567-83ef-846d0de2dc67",
   "metadata": {},
   "outputs": [
    {
     "name": "stdout",
     "output_type": "stream",
     "text": [
      "Chi-square Test for Day 7 Retention Rate:\n",
      "Chi2 Statistic: 20.203, p-value: 0.000\n",
      "Reject the null hypothesis.\n",
      "Conclusion: The new onboarding flow (Test Group) improves Day 7 retention.\n"
     ]
    }
   ],
   "source": [
    "# Day 7 Retention Chi-square test\n",
    "retention_table_day7 = pd.crosstab(df['group'], df['retained_day_7'])\n",
    "chi2_day7, p_value_day7, _, _ = chi2_contingency(retention_table_day7)\n",
    "print(f\"Chi-square Test for Day 7 Retention Rate:\\nChi2 Statistic: {chi2_day7:.3f}, p-value: {p_value_day7:.3f}\")\n",
    "\n",
    "if p_value_day7 < alpha:\n",
    "    print(\"Reject the null hypothesis.\")\n",
    "else:\n",
    "    print(\"Fail to reject the null hypothesis.\")\n",
    "\n",
    "\n",
    "if p_value_day7 < alpha:\n",
    "    print(\"Conclusion: The new onboarding flow (Test Group) improves Day 7 retention.\")\n",
    "else:\n",
    "    print(\"Conclusion: No significant difference in Day 7 retention between the two groups.\")"
   ]
  },
  {
   "cell_type": "code",
   "execution_count": 13,
   "id": "15a37b5f-9445-488b-a6df-dfa25f5c6b86",
   "metadata": {},
   "outputs": [
    {
     "name": "stdout",
     "output_type": "stream",
     "text": [
      "Chi-square Test for Day 30 Retention Rate:\n",
      "Chi2 Statistic: 19.752, p-value: 0.000\n",
      "Reject the null hypothesis: Significant difference in Day 30 retention rate.\n",
      "Conclusion: The new onboarding flow (Test Group) improves Day 30 retention.\n"
     ]
    }
   ],
   "source": [
    "# Day 30 Retention Chi-square test\n",
    "retention_table_day30 = pd.crosstab(df['group'], df['retained_day_30'])\n",
    "chi2_day30, p_value_day30, _, _ = chi2_contingency(retention_table_day30)\n",
    "print(f\"Chi-square Test for Day 30 Retention Rate:\\nChi2 Statistic: {chi2_day30:.3f}, p-value: {p_value_day30:.3f}\")\n",
    "\n",
    "if p_value_day30 < alpha:\n",
    "    print(\"Reject the null hypothesis: Significant difference in Day 30 retention rate.\")\n",
    "else:\n",
    "    print(\"Fail to reject the null hypothesis: No significant difference in Day 30 retention rate.\")\n",
    "\n",
    "if p_value_day30 < alpha:\n",
    "    print(\"Conclusion: The new onboarding flow (Test Group) improves Day 30 retention.\")\n",
    "else:\n",
    "    print(\"Conclusion: No significant difference in Day 30 retention between the two groups.\")"
   ]
  },
  {
   "cell_type": "markdown",
   "id": "c083ca3e-eaad-4ab8-9c16-10a892e88b72",
   "metadata": {},
   "source": [
    "**Sessions Within Week (Mann-Whitney U Test)**"
   ]
  },
  {
   "cell_type": "code",
   "execution_count": 14,
   "id": "0c1287ee-93ac-4e37-b7da-ee07a69fb5cf",
   "metadata": {},
   "outputs": [
    {
     "name": "stdout",
     "output_type": "stream",
     "text": [
      "Mann-Whitney U Test for Sessions Within Week:\n",
      "U Statistic: 11743040.500, p-value: 0.000\n",
      "Reject the null hypothesis\n",
      "Conclusion: A significant difference in session counts.\n"
     ]
    }
   ],
   "source": [
    "from scipy.stats import mannwhitneyu\n",
    "\n",
    "# Mann-Whitney U Test for sessions within the week\n",
    "u_stat, p_value_sessions = mannwhitneyu(sessions_control, sessions_test, alternative='two-sided')\n",
    "print(f\"Mann-Whitney U Test for Sessions Within Week:\\nU Statistic: {u_stat:.3f}, p-value: {p_value_sessions:.3f}\")\n",
    "\n",
    "if p_value_sessions < alpha:\n",
    "    print(\"Reject the null hypothesis\")\n",
    "else:\n",
    "    print(\"Fail to reject the null hypothesis\")\n",
    "\n",
    "if p_value_sessions < alpha:\n",
    "    print(\"Conclusion: A significant difference in session counts.\")\n",
    "else:\n",
    "    print(\"Conclusion: No significant difference.\")"
   ]
  },
  {
   "cell_type": "markdown",
   "id": "5f47516b-2cfc-4b18-9439-6e621f8752f2",
   "metadata": {},
   "source": [
    "## Step 6: Visualization"
   ]
  },
  {
   "cell_type": "code",
   "execution_count": 19,
   "id": "0051f8fa-5817-403b-b3e6-6b616ac7d8ca",
   "metadata": {},
   "outputs": [
    {
     "data": {
      "image/png": "[encoded data removed]",
      "text/plain": [
       "<Figure size 600x600 with 1 Axes>"
      ]
     },
     "metadata": {},
     "output_type": "display_data"
    },
    {
     "data": {
      "image/png": "[encoded data removed]",
      "text/plain": [
       "<Figure size 900x600 with 1 Axes>"
      ]
     },
     "metadata": {},
     "output_type": "display_data"
    }
   ],
   "source": [
    "# Visualize onboarding completion rate\n",
    "plt.figure(figsize=(6, 6))\n",
    "sns.barplot(x=\"group\", y=\"onboarding_completion\", data=df, estimator=np.mean)\n",
    "plt.title(\"Onboarding Completion Rate by Group\")\n",
    "plt.xlabel(\"Group\")\n",
    "plt.ylabel(\"Onboarding Completion Rate\")\n",
    "plt.show()\n",
    "\n",
    "# Visualize Day 7 and Day 30 retention rates\n",
    "plt.figure(figsize=(9, 6))\n",
    "retention_rates = df.groupby(\"group\")[[\"retained_day_7\", \"retained_day_30\"]].mean().reset_index().melt(id_vars=\"group\")\n",
    "\n",
    "sns.barplot(x=\"group\", y=\"value\", hue=\"variable\", data=retention_rates)\n",
    "plt.title(\"Retention Rates by Group\")\n",
    "plt.xlabel(\"Group\")\n",
    "plt.ylabel(\"Retention Rate\")\n",
    "plt.legend(title=\"Metric\")\n",
    "plt.show()\n"
   ]
  },
  {
   "cell_type": "markdown",
   "id": "426e2efd-9ae1-425c-a22c-941383ba0c61",
   "metadata": {},
   "source": [
    "**Onboarding Completion Rate by Group bar plot:**\n",
    "\n",
    "- Both Group A (control group) and Group B (test group) have very similar onboarding completion rates. There is no substantial visible difference between the two bars, indicating that the new onboarding flow (Group B) did not significantly increase the onboarding completion rate compared to the original flow (Group A).\n",
    "\n",
    "- The small black lines at the top of each bar represent error bars (typically showing the standard error or confidence interval). These error bars overlap between the two groups, suggesting that any difference in completion rate may not be statistically significant.\n",
    "\n",
    "**Higher Day 7 Retention in Group B:**\n",
    "\n",
    "- Group B (test group) has a slightly higher Day 7 retention rate compared to Group A. This suggests that the new onboarding flow in Group B may have positively impacted early retention, encouraging users to return within the first week.\n",
    "\n",
    "- The higher Day 7 retention rate indicates that users in Group B might be more engaged immediately after onboarding, which is a positive sign for initial user interest.\n",
    "\n",
    "**Day 30 Retention Similar for Both Groups:**\n",
    "\n",
    "- Both groups have similar Day 30 retention rates, with only a small difference between Group A and Group B.\n",
    "\n",
    "- This suggests that, while the new onboarding flow (Group B) might have increased initial engagement (reflected in the Day 7 retention), this effect does not appear to sustain over a longer period. By Day 30, users from both groups seem to have similar retention behaviors.\n",
    "\n",
    "**Implications for Onboarding Flow Optimization:**\n",
    "\n",
    "- The fact that Group B shows higher Day 7 retention but similar Day 30 retention could imply that the new onboarding flow is effective in generating early engagement but may not lead to long-term retention improvements.\n"
   ]
  },
  {
   "cell_type": "markdown",
   "id": "2b9ec402-1f83-43a0-8826-6f2d01d52a4a",
   "metadata": {},
   "source": [
    "## Step 7: Checking for practical signficance or Investigating and Ensuring the robustness of the test results\n",
    "\n",
    "### **1. Effect Size Analysis:** \n",
    "Calculating the effect size for each test to measure practical significance beyond statistical significance. For binary outcomes (like onboarding completion), I have calculated `Cohen'h` for proportions or `Cramer's V` for Chi-square tests. For continuous data (like sessions within a week), `Cohen's d` can be calculated for the Mann-Whitney U Test."
   ]
  },
  {
   "cell_type": "code",
   "execution_count": 20,
   "id": "29b236f4-bac6-4b49-80ed-61e11a106448",
   "metadata": {},
   "outputs": [
    {
     "name": "stdout",
     "output_type": "stream",
     "text": [
      "Cramér's V for Onboarding Completion: 0.057\n",
      "Cohen's h for Onboarding Completion: -0.114\n",
      "Cramér's V for Day 7 Retention: 0.045\n",
      "Cohen's h for Day 7 Retention: -0.090\n",
      "Cramér's V for Day 30 Retention: 0.044\n",
      "Cohen's h for Day 30 Retention: -0.089\n",
      "Cohen's d for Sessions Within Week: 0.111\n"
     ]
    }
   ],
   "source": [
    "import numpy as np\n",
    "\n",
    "# Effect Size for Chi-square tests: Cramér's V\n",
    "def cramers_v(chi2, n, k=2):\n",
    "    return np.sqrt(chi2 / (n * (k - 1)))\n",
    "\n",
    "# Cohen's h for proportion differences\n",
    "def cohens_h(p1, p2):\n",
    "    return 2 * (np.arcsin(np.sqrt(p1)) - np.arcsin(np.sqrt(p2)))\n",
    "\n",
    "# Cohen's d for Mann-Whitney U (for continuous outcomes)\n",
    "def cohens_d(mean1, mean2, std1, std2, n1, n2):\n",
    "    pooled_std = np.sqrt(((n1 - 1) * std1 ** 2 + (n2 - 1) * std2 ** 2) / (n1 + n2 - 2))\n",
    "    return (mean1 - mean2) / pooled_std\n",
    "\n",
    "# Onboarding Completion Effect Size (Cramér's V and Cohen's h)\n",
    "n_total = df.shape[0]  # Total sample size\n",
    "\n",
    "# Chi-square effect size (Cramér's V)\n",
    "cramers_v_onboarding = cramers_v(chi2, n_total)\n",
    "print(f\"Cramér's V for Onboarding Completion: {cramers_v_onboarding:.3f}\")\n",
    "\n",
    "# Cohen's h for Onboarding Completion\n",
    "p1_completion = df[df['group'] == 'A']['onboarding_completion'].mean()\n",
    "p2_completion = df[df['group'] == 'B']['onboarding_completion'].mean()\n",
    "cohens_h_completion = cohens_h(p1_completion, p2_completion)\n",
    "print(f\"Cohen's h for Onboarding Completion: {cohens_h_completion:.3f}\")\n",
    "\n",
    "# Day 7 Retention Effect Size (Cramér's V and Cohen's h)\n",
    "cramers_v_day7 = cramers_v(chi2_day7, n_total)\n",
    "print(f\"Cramér's V for Day 7 Retention: {cramers_v_day7:.3f}\")\n",
    "\n",
    "p1_day7 = df[df['group'] == 'A']['retained_day_7'].mean()\n",
    "p2_day7 = df[df['group'] == 'B']['retained_day_7'].mean()\n",
    "cohens_h_day7 = cohens_h(p1_day7, p2_day7)\n",
    "print(f\"Cohen's h for Day 7 Retention: {cohens_h_day7:.3f}\")\n",
    "\n",
    "# Day 30 Retention Effect Size (Cramér's V and Cohen's h)\n",
    "cramers_v_day30 = cramers_v(chi2_day30, n_total)\n",
    "print(f\"Cramér's V for Day 30 Retention: {cramers_v_day30:.3f}\")\n",
    "\n",
    "p1_day30 = df[df['group'] == 'A']['retained_day_30'].mean()\n",
    "p2_day30 = df[df['group'] == 'B']['retained_day_30'].mean()\n",
    "cohens_h_day30 = cohens_h(p1_day30, p2_day30)\n",
    "print(f\"Cohen's h for Day 30 Retention: {cohens_h_day30:.3f}\")\n",
    "\n",
    "# Effect Size for Mann-Whitney U (Sessions - Cohen's d)\n",
    "mean_sessions_control = sessions_control.mean()\n",
    "mean_sessions_test = sessions_test.mean()\n",
    "std_sessions_control = sessions_control.std()\n",
    "std_sessions_test = sessions_test.std()\n",
    "n_control = len(sessions_control)\n",
    "n_test = len(sessions_test)\n",
    "\n",
    "cohens_d_sessions = cohens_d(mean_sessions_test, mean_sessions_control, std_sessions_test, std_sessions_control, n_test, n_control)\n",
    "print(f\"Cohen's d for Sessions Within Week: {cohens_d_sessions:.3f}\")\n"
   ]
  },
  {
   "cell_type": "markdown",
   "id": "c54c4f89-34bf-4a25-b478-d0497f357ce3",
   "metadata": {},
   "source": [
    "#### **Interpreting each of these effect sizes:**\n",
    "\n",
    "##### 1. **Cramér's V (for Chi-square Tests on Onboarding and Retention Rates)**\n",
    "   - **Cramér’s V Interpretation**:\n",
    "     - Values range from 0 to 1, with 0 indicating no association and values closer to 1 indicating a stronger association.\n",
    "     - Common thresholds for interpretation:\n",
    "       - **0.10 or below**: Very weak effect\n",
    "       - **0.10 - 0.30**: Small effect\n",
    "       - **0.30 - 0.50**: Medium effect\n",
    "       - **Above 0.50**: Large effect\n",
    "   - **Results**:\n",
    "     - Cramér's V for **Onboarding Completion (0.057)**, **Day 7 Retention (0.045)**, and **Day 30 Retention (0.044)** all indicate very weak associations between the group (control or test) and completion/retention outcomes.\n",
    "     - Although the p-values may suggest statistically significant differences, the low Cramér’s V values show that these differences have very little practical impact.\n",
    "\n",
    "##### 2. **Cohen’s h (for Proportion Differences in Onboarding and Retention Rates)**\n",
    "   - **Cohen’s h Interpretation**:\n",
    "     - Cohen's h assesses the difference between two proportions and is interpreted similarly to Cohen's d for continuous data.\n",
    "     - Common thresholds:\n",
    "       - **0.20 or below**: Small effect\n",
    "       - **0.50**: Medium effect\n",
    "       - **0.80 or above**: Large effect\n",
    "   - **Results**:\n",
    "     - Cohen’s h values for **Onboarding Completion (-0.114)**, **Day 7 Retention (-0.090)**, and **Day 30 Retention (-0.089)** are all small (absolute values are below 0.20).\n",
    "     - The negative values indicate that the test group proportion was lower than the control group for these metrics. However, the small magnitudes suggest that these differences are minimal and might not be meaningful in practice, despite statistical significance.\n",
    "\n",
    "##### 3. **Cohen’s d (for Sessions Within Week)**\n",
    "   - **Cohen’s d Interpretation**:\n",
    "     - Cohen's d measures the standardized difference between means for continuous data.\n",
    "     - Common thresholds:\n",
    "       - **0.20**: Small effect\n",
    "       - **0.50**: Medium effect\n",
    "       - **0.80**: Large effect\n",
    "   - **Result**:\n",
    "     - Cohen’s d for **Sessions Within Week (0.111)** is considered a very small effect size, suggesting that the difference in the number of sessions between the control and test groups is minor.\n",
    "\n",
    "##### Overall Interpretation:\n",
    "Despite achieving statistical significance in the A/B test, the effect sizes are very small across all metrics, indicating that the observed differences between the control and test groups likely have minimal practical importance. These results suggest that the new onboarding flow (Test Group) does not lead to meaningful improvements over the existing flow (Control Group) across onboarding completion, retention, or engagement (session count).\n",
    "\n",
    "If practical impact is a priority, these findings suggest that the onboarding changes may not warrant implementation. "
   ]
  },
  {
   "cell_type": "markdown",
   "id": "caa1a058-784d-4761-909c-89d679c03afc",
   "metadata": {},
   "source": [
    "### **2. Re-sample for Robustness: bootstrap samples:**\n",
    "\n",
    "Bootstrapping involves repeatedly sampling from the original data (with replacement) to estimate the distribution of a test statistic or effect size. This approach allows us to obtain confidence intervals around p-values and effect sizes, giving insights into the variability and robustness of our results.\n",
    "\n",
    "Here's how to implement bootstrapping for each test and effect size in your case:\n",
    "\n",
    "**1. Bootstrap Function**\n",
    "First, define a general-purpose bootstrap function that will resample the data and re-compute the test statistics and effect sizes.\n",
    "\n",
    "**2. Bootstrap for Each Metric**\n",
    "Run bootstraps for each of the key metrics (onboarding completion, day 7 retention, day 30 retention, and sessions within the week).\n",
    "\n",
    "**3. Compute Confidence Intervals**\n",
    "After running the bootstraps, calculate confidence intervals for each statistic and effect size."
   ]
  },
  {
   "cell_type": "code",
   "execution_count": 40,
   "id": "66828788-6bf6-48f1-a0b4-7d8d095e3fc2",
   "metadata": {},
   "outputs": [
    {
     "name": "stdout",
     "output_type": "stream",
     "text": [
      "Onboarding Completion Bootstrap Results:\n",
      "Test Statistic CI: (13.41827442358727, 58.20012242345798)\n",
      "Effect Size CI: (0.036630954927730976, 0.07628900363436793)\n",
      "Mean Test Statistic: 32.9697847853347\n",
      "Mean Effect Size: 0.05649057583093135\n",
      "\n",
      "Day 7 Retention Bootstrap Results:\n",
      "Test Statistic CI: (6.067870127203691, 40.213081851025194)\n",
      "Effect Size CI: (0.024633045019050226, 0.06341373422698215)\n",
      "Mean Test Statistic: 20.93875819995849\n",
      "Mean Effect Size: 0.04464871650614114\n",
      "\n",
      "Day 30 Retention Bootstrap Results:\n",
      "Test Statistic CI: (5.744332974557873, 40.76941280421573)\n",
      "Effect Size CI: (0.02396733743160642, 0.06385093011986169)\n",
      "Mean Test Statistic: 20.007008682264154\n",
      "Mean Effect Size: 0.04361781439483599\n",
      "\n",
      "Sessions Within Week Bootstrap Results:\n",
      "Test Statistic CI: (11457469.425, 11999219.325)\n",
      "Effect Size CI: (0.07356460076450153, 0.15173748161199407)\n",
      "Mean Test Statistic: 11737412.5505\n",
      "Mean Effect Size: 0.11190225169898374\n"
     ]
    }
   ],
   "source": [
    "import numpy as np\n",
    "from scipy.stats import chi2_contingency, mannwhitneyu\n",
    "import pandas as pd\n",
    "\n",
    "# Define bootstrap function\n",
    "def bootstrap_test(data, group_col, metric_col, test_func, effect_size_func, n_bootstrap=1000, alpha=0.05):\n",
    "    test_statistics = []\n",
    "    effect_sizes = []\n",
    "    \n",
    "    for _ in range(n_bootstrap):\n",
    "        # Sample with replacement\n",
    "        sample = data.sample(frac=1, replace=True)\n",
    "        \n",
    "        # Calculate test statistic and effect size on bootstrap sample\n",
    "        test_stat, effect_size = test_func(sample, group_col, metric_col), effect_size_func(sample, group_col, metric_col)\n",
    "        test_statistics.append(test_stat)\n",
    "        effect_sizes.append(effect_size)\n",
    "    \n",
    "    # Confidence intervals for test statistic and effect size\n",
    "    lower_stat = np.percentile(test_statistics, 100 * alpha / 2)\n",
    "    upper_stat = np.percentile(test_statistics, 100 * (1 - alpha / 2))\n",
    "    \n",
    "    lower_effect = np.percentile(effect_sizes, 100 * alpha / 2)\n",
    "    upper_effect = np.percentile(effect_sizes, 100 * (1 - alpha / 2))\n",
    "    \n",
    "    return {\n",
    "        \"test_statistic_ci\": (lower_stat, upper_stat),\n",
    "        \"effect_size_ci\": (lower_effect, upper_effect),\n",
    "        \"test_statistic_mean\": np.mean(test_statistics),\n",
    "        \"effect_size_mean\": np.mean(effect_sizes)\n",
    "    }\n",
    "\n",
    "# Define specific test functions and effect size functions\n",
    "\n",
    "# Chi-square test statistic and Cramér's V effect size\n",
    "def chi2_test(data, group_col, metric_col):\n",
    "    contingency_table = pd.crosstab(data[group_col], data[metric_col])\n",
    "    chi2, _, _, _ = chi2_contingency(contingency_table)\n",
    "    return chi2\n",
    "\n",
    "def cramers_v(data, group_col, metric_col):\n",
    "    contingency_table = pd.crosstab(data[group_col], data[metric_col])\n",
    "    chi2, _, _, _ = chi2_contingency(contingency_table)\n",
    "    n = data.shape[0]\n",
    "    k = min(contingency_table.shape) - 1\n",
    "    return np.sqrt(chi2 / (n * k))\n",
    "\n",
    "# Mann-Whitney U test and Cohen's d effect size for continuous outcomes (sessions)\n",
    "def mannwhitney_u_test(data, group_col, metric_col):\n",
    "    control = data[data[group_col] == 'A'][metric_col]\n",
    "    test = data[data[group_col] == 'B'][metric_col]\n",
    "    u_stat, _ = mannwhitneyu(control, test, alternative='two-sided')\n",
    "    return u_stat\n",
    "\n",
    "def cohens_d_sessions(data, group_col, metric_col):\n",
    "    control = data[data[group_col] == 'A'][metric_col]\n",
    "    test = data[data[group_col] == 'B'][metric_col]\n",
    "    pooled_std = np.sqrt((control.var() * (len(control) - 1) + test.var() * (len(test) - 1)) / (len(control) + len(test) - 2))\n",
    "    return (test.mean() - control.mean()) / pooled_std\n",
    "\n",
    "# Applying the bootstrap for each test statistic and effect size\n",
    "\n",
    "# Onboarding Completion (Chi-square and Cramér's V)\n",
    "onboarding_results = bootstrap_test(\n",
    "    df, \n",
    "    group_col=\"group\", \n",
    "    metric_col=\"onboarding_completion\", \n",
    "    test_func=chi2_test, \n",
    "    effect_size_func=cramers_v\n",
    ")\n",
    "\n",
    "print(\"Onboarding Completion Bootstrap Results:\")\n",
    "print(f\"Test Statistic CI: {onboarding_results['test_statistic_ci']}\")\n",
    "print(f\"Effect Size CI: {onboarding_results['effect_size_ci']}\")\n",
    "print(f\"Mean Test Statistic: {onboarding_results['test_statistic_mean']}\")\n",
    "print(f\"Mean Effect Size: {onboarding_results['effect_size_mean']}\")\n",
    "\n",
    "# Day 7 Retention (Chi-square and Cramér's V)\n",
    "day7_results = bootstrap_test(\n",
    "    df, \n",
    "    group_col=\"group\", \n",
    "    metric_col=\"retained_day_7\", \n",
    "    test_func=chi2_test, \n",
    "    effect_size_func=cramers_v\n",
    ")\n",
    "\n",
    "print(\"\\nDay 7 Retention Bootstrap Results:\")\n",
    "print(f\"Test Statistic CI: {day7_results['test_statistic_ci']}\")\n",
    "print(f\"Effect Size CI: {day7_results['effect_size_ci']}\")\n",
    "print(f\"Mean Test Statistic: {day7_results['test_statistic_mean']}\")\n",
    "print(f\"Mean Effect Size: {day7_results['effect_size_mean']}\")\n",
    "\n",
    "# Day 30 Retention (Chi-square and Cramér's V)\n",
    "day30_results = bootstrap_test(\n",
    "    df, \n",
    "    group_col=\"group\", \n",
    "    metric_col=\"retained_day_30\", \n",
    "    test_func=chi2_test, \n",
    "    effect_size_func=cramers_v\n",
    ")\n",
    "\n",
    "print(\"\\nDay 30 Retention Bootstrap Results:\")\n",
    "print(f\"Test Statistic CI: {day30_results['test_statistic_ci']}\")\n",
    "print(f\"Effect Size CI: {day30_results['effect_size_ci']}\")\n",
    "print(f\"Mean Test Statistic: {day30_results['test_statistic_mean']}\")\n",
    "print(f\"Mean Effect Size: {day30_results['effect_size_mean']}\")\n",
    "\n",
    "# Sessions Within Week (Mann-Whitney U and Cohen's d)\n",
    "sessions_results = bootstrap_test(\n",
    "    df, \n",
    "    group_col=\"group\", \n",
    "    metric_col=\"sessions_within_week\", \n",
    "    test_func=mannwhitney_u_test, \n",
    "    effect_size_func=cohens_d_sessions\n",
    ")\n",
    "\n",
    "print(\"\\nSessions Within Week Bootstrap Results:\")\n",
    "print(f\"Test Statistic CI: {sessions_results['test_statistic_ci']}\")\n",
    "print(f\"Effect Size CI: {sessions_results['effect_size_ci']}\")\n",
    "print(f\"Mean Test Statistic: {sessions_results['test_statistic_mean']}\")\n",
    "print(f\"Mean Effect Size: {sessions_results['effect_size_mean']}\")\n"
   ]
  },
  {
   "cell_type": "markdown",
   "id": "db18731c-5775-4dbb-9c8d-e17ea68d0f78",
   "metadata": {},
   "source": [
    "### Interpretation of the test results\n",
    "\n",
    "It is essential to focus on the metrics that align most closely with the business goals.\n",
    "\n",
    "**1. Onboarding Completion:**\n",
    "\n",
    "**- Confidence Interval:** The confidence interval gives a range of values that we expect the test statistic (or effect size) to fall within with a specified confidence level (usually 95%).\n",
    "  \n",
    "  - For Onboarding Completion, the effect size of CI of (0.0366, 0.0763) means:\n",
    "    \n",
    "    - We're 95% confident that the increase in onboarding completion due to the test falls between 3.66% and 7.63%.\n",
    "    - This indicates that onboarding completion rates in the test group improved within this range, suggesting a robust positive effect.\n",
    "\n",
    "A narrower confidence interval implies more reliability; a broader one, more variability. In general:\n",
    "    - If the confidence interval does not include 0, it suggests the effect is statistically significant and that the improvement is likely to persist if implemented broadly.\n",
    "\n",
    "**- Key Insight:**\n",
    "  \n",
    "  - The changes in the onboarding flow improved the completion rate by about 5.65% on average, with a range likely between 3.66% and 7.63%.\n",
    "  - This means that more users are successfully completing the onboarding process in the test group compared to the control. This is a strong indication that the onboarding flow is more user-friendly or compelling, which drive more users into full engagement with our app.\n",
    "\n",
    "**- Mean Test Statistic:** 32.97\n",
    "\n",
    "  - \"On average, 32.97% of users in the test group completed the onboarding process under the new flow. This means that almost one-third of users successfully completed onboarding, which is an improvement over the control group's rate. This higher completion rate suggests that the new onboarding design is more effective at helping users through the initial setup.\"\n",
    "\n",
    "**- Test Statistic CI:** \n",
    "\n",
    "  - The confidence interval suggests that, in the test group, onboarding completion is likely to fall between 13.4% and 58.2%.\n",
    "  - The width of this interval (44.78%) indicates some variability in how different user samples responded to the onboarding changes. This can result from factors like user behavior and demographic differences.\n",
    "\n",
    "**2. Day 7 Retention:**\n",
    "\n",
    "- Users in the test group are 4.46% more likely to be retained by Day 7 than those in the control, with a 95% confidence that the improvement lies between 2.46% and 6.34%.\n",
    "- The modest improvement in Day 7 retention suggests that users who complete onboarding under the new flow are more likely to continue using the app within the first week.\n",
    "- Mean Test Statistic: The average Day 7 retention rate in the test group is 20.94%. This means that roughly one in five users who completed onboarding under the new flow returned to the app within a week. Compared to the control, this is a positive increase, indicating that the new onboarding process may encourage users to come back to the app sooner.\"\n",
    "- Test Statistic CI: (6.07, 40.21) - This confidence interval indicates that, with 95% confidence, the Day 7 retention rate for users in the test group falls between 6.07% and 40.21%. The relatively wide range implies some variability in how different samples of users retain by Day 7, but the interval’s lower bound still suggests an improvement. Although this range is broad, a positive increase in Day 7 retention supports the idea that the onboarding changes have a sustained impact shortly after onboarding. This is an important metric because Day 7 retention can predict longer-term engagement, showing stakeholders that users are more likely to return within a week after the new onboarding process.\n",
    "\n",
    "**3. Day 30 Retention:**\n",
    "\n",
    "- Day 30 retention also shows a positive effect of 4.36% on average, with confidence that the improvement ranges between 2.4% and 6.39%.\n",
    "- Although the effect is small, it indicates that the onboarding flow change might also positively impact longer-term retention.\n",
    "- \"There’s a modest impact on longer-term retention, with users slightly more likely to return by Day 30. While this effect is small, it suggests that our onboarding improvements may have lasting value.\"\n",
    "- Mean Test Statistic: 20.01 - \"After 30 days, we see that about 20.01% of users from the test group are still engaged with the app. This level of retention is promising and suggests that users who completed onboarding under the new flow tend to stick around longer, which could translate into more loyal, returning users.\"\n",
    "- Test Statistic CI: (5.74, 40.77) - This interval tells us that the 30-day retention rate in the test group likely lies between 5.74% and 40.77%. Similar to Day 7 retention, this is a broad interval, but it’s still above zero, showing a positive trend in retaining users even a month after onboarding. This metric is a valuable follow-up to Day 7 retention. It shows that the onboarding changes may also contribute to longer-term retention, keeping users engaged at least 30 days after onboarding. For stakeholders, this adds confidence that the improvements in onboarding completion have a sustained effect, although the larger variability implies that retention is influenced by additional factors beyond onboarding such as user demographics, engagement with other app features, or seasonal trends, which could lead to more variation in how users behave after onboarding.\n",
    "\n",
    "**4. Sessions Within the Week:**\n",
    "\n",
    "- Users in the test group show an 11.19% increase in weekly sessions compared to the control, with a confidence interval of 7.36% to 15.17%.\n",
    "- This result reflects a substantial increase in early user engagement. It indicates that users are more active in their first week after onboarding, which is often a positive indicator for future retention and satisfaction.\n",
    "\n",
    "\n"
   ]
  },
  {
   "cell_type": "markdown",
   "id": "f54c9bea-b3e7-4409-ab7f-917b65edf4e1",
   "metadata": {},
   "source": [
    "## Step 8: Conclusion & Recommendations\n",
    "\n",
    "\"Overall, the A/B test results show strong support for implementing the new onboarding flow. We’re seeing improvements across all key metrics, especially onboarding completion and weekly sessions, which are critical for initial engagement. The confidence intervals reinforce the robustness of these findings, giving us confidence that these improvements are both statistically significant and practically meaningful. Implementing these changes will likely increase user engagement and retention, contributing positively to our growth and user satisfaction goals.\" \n",
    "\n",
    "However, Considering further optimization or exploring different variations in the onboarding process to achieve larger effects:\n",
    "\n",
    "1. User Feedback: Collect qualitative feedback from users who failed to complete onboarding. Understanding their pain points can give insight into specific areas for improvement.\n",
    "\n",
    "2. Personalized Onboarding Flows: Consider tailoring the onboarding experience based on user segments, such as new vs. returning users or those with varying levels of digital literacy.\n",
    "\n",
    "3. Progressive Disclosure: Test reducing cognitive load by only showing essential features at each step and introducing additional options gradually as the user proceeds.\n",
    "\n",
    "4. Gamification Elements: Incorporate rewards, progress bars, or achievements. This can increase user motivation to complete the onboarding flow.\n",
    "\n",
    "5. Clear Instructions and CTAs: Ensure that each step has clear instructions and an obvious call-to-action. Test language, button placement, and visuals for clarity and engagement.\n",
    "\n",
    "6. Time to Complete: Track how long users spend on each step and overall time to complete onboarding. This can highlight steps that are more time-consuming or confusing.\n",
    "\n",
    "7. Based on insights from the steps above, design new A/B tests with clear hypotheses around specific changes. Use effect size thresholds (e.g., aiming for at least a small-to-medium effect) to decide whether the results are practically significant before implementation."
   ]
  },
  {
   "cell_type": "code",
   "execution_count": 41,
   "id": "17a87f28-f3c9-44de-8d99-a54fc7c6a094",
   "metadata": {},
   "outputs": [],
   "source": [
    "#################################################End-of-Code################################################################"
   ]
  },
  {
   "cell_type": "code",
   "execution_count": null,
   "id": "83adf8bc-da57-407b-b808-ace839cacde9",
   "metadata": {},
   "outputs": [],
   "source": []
  }
 ],
 "metadata": {
  "kernelspec": {
   "display_name": "Python 3 (ipykernel)",
   "language": "python",
   "name": "python3"
  },
  "language_info": {
   "codemirror_mode": {
    "name": "ipython",
    "version": 3
   },
   "file_extension": ".py",
   "mimetype": "text/x-python",
   "name": "python",
   "nbconvert_exporter": "python",
   "pygments_lexer": "ipython3",
   "version": "3.11.7"
  }
 },
 "nbformat": 4,
 "nbformat_minor": 5
}
