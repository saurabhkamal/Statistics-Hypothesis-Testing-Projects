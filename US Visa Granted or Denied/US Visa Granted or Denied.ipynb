{
 "cells": [
  {
   "cell_type": "markdown",
   "id": "d58eab01",
   "metadata": {
    "id": "d58eab01"
   },
   "source": [
    "# US Visa Granted or Denied"
   ]
  },
  {
   "cell_type": "markdown",
   "id": "232c806f",
   "metadata": {
    "id": "232c806f"
   },
   "source": [
    "### About\n",
    "The Immigration and Nationality Act (INA) of the US permits foreign workers to come to the United States to work on either a temporary or permanent basis. \n",
    "The act also protects US workers against adverse impacts on working place and maintain requirements when they hire foreign workers to fill workforce shortages. The immigration programs are administered by the Office of Foreign Labor Certification (OFLC)."
   ]
  },
  {
   "cell_type": "markdown",
   "id": "1036af93",
   "metadata": {
    "id": "1036af93"
   },
   "source": [
    "## Problem statement.\n",
    "\n",
    "* OFLC gives job certification applications for employers seeking to bring foreign workers into the United States and grants certifications. \n",
    "* As in last year the count of employees was huge and OFLC wants to analyze important variables that can determine whether to grant or deny job certification applications.\n",
    "\n",
    "## Objective\n",
    "\n",
    "This project's main goal is to run a Chi-square test of independence to examine the relationship between categorical features and case status, the target variable. We use Python hypothesis testing and other analyses to extract useful information that can help OFLC grant or deny job certification applications. In particular, we want to test the correlation of Categorical columns with Target column\n",
    "\n",
    "## Research Question\n",
    "\n",
    "Is there a connection between continent, education_of_employee, has_job_experience, requires_job_training, region_of_employment, unit_of_wage, and full_time_position, and case_status since correlated features can help in prediction. Features that have some level of correlation or relationship with the target variable are generally more useful for prediction. If there is no relationship, the model may not perform well because the features won't provide helpful information to predict the target? "
   ]
  },
  {
   "cell_type": "markdown",
   "id": "51d88943",
   "metadata": {
    "id": "51d88943"
   },
   "source": [
    "## Importing Libraries"
   ]
  },
  {
   "cell_type": "code",
   "execution_count": 18,
   "id": "497ada02",
   "metadata": {
    "id": "497ada02"
   },
   "outputs": [],
   "source": [
    "import pandas as pd\n",
    "import numpy as np\n",
    "import matplotlib.pyplot as plt\n",
    "import seaborn as sns\n",
    "import plotly.express as px\n",
    "import warnings\n",
    "\n",
    "warnings.filterwarnings(\"ignore\")\n",
    "%matplotlib inline"
   ]
  },
  {
   "cell_type": "markdown",
   "id": "7fb6e8ec",
   "metadata": {
    "id": "7fb6e8ec"
   },
   "source": [
    "## Loading the data"
   ]
  },
  {
   "cell_type": "code",
   "execution_count": 19,
   "id": "53138f10",
   "metadata": {
    "id": "53138f10"
   },
   "outputs": [],
   "source": [
    "df = pd.read_csv(r\"Visadataset.csv\")"
   ]
  },
  {
   "cell_type": "code",
   "execution_count": 20,
   "id": "3f393178",
   "metadata": {
    "id": "3f393178",
    "outputId": "bef07e4b-4cf6-48f4-ed48-b96a8b4de66d"
   },
   "outputs": [
    {
     "data": {
      "text/html": [
       "<div>\n",
       "<style scoped>\n",
       "    .dataframe tbody tr th:only-of-type {\n",
       "        vertical-align: middle;\n",
       "    }\n",
       "\n",
       "    .dataframe tbody tr th {\n",
       "        vertical-align: top;\n",
       "    }\n",
       "\n",
       "    .dataframe thead th {\n",
       "        text-align: right;\n",
       "    }\n",
       "</style>\n",
       "<table border=\"1\" class=\"dataframe\">\n",
       "  <thead>\n",
       "    <tr style=\"text-align: right;\">\n",
       "      <th></th>\n",
       "      <th>case_id</th>\n",
       "      <th>continent</th>\n",
       "      <th>education_of_employee</th>\n",
       "      <th>has_job_experience</th>\n",
       "      <th>requires_job_training</th>\n",
       "      <th>no_of_employees</th>\n",
       "      <th>yr_of_estab</th>\n",
       "      <th>region_of_employment</th>\n",
       "      <th>prevailing_wage</th>\n",
       "      <th>unit_of_wage</th>\n",
       "      <th>full_time_position</th>\n",
       "      <th>case_status</th>\n",
       "    </tr>\n",
       "  </thead>\n",
       "  <tbody>\n",
       "    <tr>\n",
       "      <th>0</th>\n",
       "      <td>EZYV01</td>\n",
       "      <td>Asia</td>\n",
       "      <td>High School</td>\n",
       "      <td>N</td>\n",
       "      <td>N</td>\n",
       "      <td>14513</td>\n",
       "      <td>2007</td>\n",
       "      <td>West</td>\n",
       "      <td>592.2029</td>\n",
       "      <td>Hour</td>\n",
       "      <td>Y</td>\n",
       "      <td>Denied</td>\n",
       "    </tr>\n",
       "    <tr>\n",
       "      <th>1</th>\n",
       "      <td>EZYV02</td>\n",
       "      <td>Asia</td>\n",
       "      <td>Master's</td>\n",
       "      <td>Y</td>\n",
       "      <td>N</td>\n",
       "      <td>2412</td>\n",
       "      <td>2002</td>\n",
       "      <td>Northeast</td>\n",
       "      <td>83425.6500</td>\n",
       "      <td>Year</td>\n",
       "      <td>Y</td>\n",
       "      <td>Certified</td>\n",
       "    </tr>\n",
       "    <tr>\n",
       "      <th>2</th>\n",
       "      <td>EZYV03</td>\n",
       "      <td>Asia</td>\n",
       "      <td>Bachelor's</td>\n",
       "      <td>N</td>\n",
       "      <td>Y</td>\n",
       "      <td>44444</td>\n",
       "      <td>2008</td>\n",
       "      <td>West</td>\n",
       "      <td>122996.8600</td>\n",
       "      <td>Year</td>\n",
       "      <td>Y</td>\n",
       "      <td>Denied</td>\n",
       "    </tr>\n",
       "    <tr>\n",
       "      <th>3</th>\n",
       "      <td>EZYV04</td>\n",
       "      <td>Asia</td>\n",
       "      <td>Bachelor's</td>\n",
       "      <td>N</td>\n",
       "      <td>N</td>\n",
       "      <td>98</td>\n",
       "      <td>1897</td>\n",
       "      <td>West</td>\n",
       "      <td>83434.0300</td>\n",
       "      <td>Year</td>\n",
       "      <td>Y</td>\n",
       "      <td>Denied</td>\n",
       "    </tr>\n",
       "    <tr>\n",
       "      <th>4</th>\n",
       "      <td>EZYV05</td>\n",
       "      <td>Africa</td>\n",
       "      <td>Master's</td>\n",
       "      <td>Y</td>\n",
       "      <td>N</td>\n",
       "      <td>1082</td>\n",
       "      <td>2005</td>\n",
       "      <td>South</td>\n",
       "      <td>149907.3900</td>\n",
       "      <td>Year</td>\n",
       "      <td>Y</td>\n",
       "      <td>Certified</td>\n",
       "    </tr>\n",
       "  </tbody>\n",
       "</table>\n",
       "</div>"
      ],
      "text/plain": [
       "  case_id continent education_of_employee has_job_experience  \\\n",
       "0  EZYV01      Asia           High School                  N   \n",
       "1  EZYV02      Asia              Master's                  Y   \n",
       "2  EZYV03      Asia            Bachelor's                  N   \n",
       "3  EZYV04      Asia            Bachelor's                  N   \n",
       "4  EZYV05    Africa              Master's                  Y   \n",
       "\n",
       "  requires_job_training  no_of_employees  yr_of_estab region_of_employment  \\\n",
       "0                     N            14513         2007                 West   \n",
       "1                     N             2412         2002            Northeast   \n",
       "2                     Y            44444         2008                 West   \n",
       "3                     N               98         1897                 West   \n",
       "4                     N             1082         2005                South   \n",
       "\n",
       "   prevailing_wage unit_of_wage full_time_position case_status  \n",
       "0         592.2029         Hour                  Y      Denied  \n",
       "1       83425.6500         Year                  Y   Certified  \n",
       "2      122996.8600         Year                  Y      Denied  \n",
       "3       83434.0300         Year                  Y      Denied  \n",
       "4      149907.3900         Year                  Y   Certified  "
      ]
     },
     "execution_count": 20,
     "metadata": {},
     "output_type": "execute_result"
    }
   ],
   "source": [
    "df.head()"
   ]
  },
  {
   "cell_type": "markdown",
   "id": "366a9a27",
   "metadata": {
    "id": "366a9a27"
   },
   "source": [
    "## Exploratory Data Analysis"
   ]
  },
  {
   "cell_type": "code",
   "execution_count": 22,
   "id": "cf3c1e60",
   "metadata": {
    "id": "cf3c1e60",
    "outputId": "f5fe6bd6-30db-4f21-98ab-b2e99c83ef0a"
   },
   "outputs": [
    {
     "data": {
      "text/plain": [
       "(25480, 12)"
      ]
     },
     "execution_count": 22,
     "metadata": {},
     "output_type": "execute_result"
    }
   ],
   "source": [
    "# rows and columns of the dataset\n",
    "df.shape"
   ]
  },
  {
   "cell_type": "markdown",
   "id": "ebd33cec",
   "metadata": {
    "id": "ebd33cec"
   },
   "source": [
    "**Check Datatypes in the dataset**"
   ]
  },
  {
   "cell_type": "code",
   "execution_count": 17,
   "id": "e0c346e6",
   "metadata": {
    "id": "e0c346e6",
    "outputId": "a8a38e5b-9c5c-4872-b4e2-d53cc2af8ec8"
   },
   "outputs": [
    {
     "name": "stdout",
     "output_type": "stream",
     "text": [
      "<class 'pandas.core.frame.DataFrame'>\n",
      "RangeIndex: 25480 entries, 0 to 25479\n",
      "Data columns (total 12 columns):\n",
      " #   Column                 Non-Null Count  Dtype  \n",
      "---  ------                 --------------  -----  \n",
      " 0   case_id                25480 non-null  object \n",
      " 1   continent              25480 non-null  object \n",
      " 2   education_of_employee  25480 non-null  object \n",
      " 3   has_job_experience     25480 non-null  object \n",
      " 4   requires_job_training  25480 non-null  object \n",
      " 5   no_of_employees        25480 non-null  int64  \n",
      " 6   yr_of_estab            25480 non-null  int64  \n",
      " 7   region_of_employment   25480 non-null  object \n",
      " 8   prevailing_wage        25480 non-null  float64\n",
      " 9   unit_of_wage           25480 non-null  object \n",
      " 10  full_time_position     25480 non-null  object \n",
      " 11  case_status            25480 non-null  object \n",
      "dtypes: float64(1), int64(2), object(9)\n",
      "memory usage: 2.3+ MB\n"
     ]
    }
   ],
   "source": [
    "# Check Null and Dtypes\n",
    "df.info()"
   ]
  },
  {
   "cell_type": "markdown",
   "id": "532da70e-ba40-477b-9978-0ad981048af3",
   "metadata": {},
   "source": [
    "There are so many columns in the dataset, but as per our problem statement, we only require some fields from the original data. Rest columns are nothing but unwanted columns for this study. So we will simply filter the columns.\n",
    "\n",
    "As the problem statement revolves around the **continent, education_of_employee, has_job_experience, requires_job_training, region_of_employment, unit_of_wage, and full_time_position, and case_status**, I will filter the data to have only those records."
   ]
  },
  {
   "cell_type": "markdown",
   "id": "a5ee9991",
   "metadata": {
    "id": "a5ee9991"
   },
   "source": [
    "**Define numerical & categorical columns**"
   ]
  },
  {
   "cell_type": "code",
   "execution_count": 23,
   "id": "69f4ca25",
   "metadata": {
    "id": "69f4ca25",
    "outputId": "5e8ee88a-9685-4d6c-d412-01a340e46c53"
   },
   "outputs": [
    {
     "name": "stdout",
     "output_type": "stream",
     "text": [
      "We have 3 numerical features : ['no_of_employees', 'yr_of_estab', 'prevailing_wage']\n",
      "\n",
      "We have 9 categorical features : ['case_id', 'continent', 'education_of_employee', 'has_job_experience', 'requires_job_training', 'region_of_employment', 'unit_of_wage', 'full_time_position', 'case_status']\n"
     ]
    }
   ],
   "source": [
    "numeric_features = [feature for feature in df.columns if df[feature].dtype != 'O']\n",
    "categorical_features = [feature for feature in df.columns if df[feature].dtype == 'O']\n",
    "\n",
    "# print columns\n",
    "print('We have {} numerical features : {}'.format(len(numeric_features), numeric_features))\n",
    "print('\\nWe have {} categorical features : {}'.format(len(categorical_features), categorical_features))"
   ]
  },
  {
   "cell_type": "markdown",
   "id": "7de319e9-8741-4929-8c22-5ba1c7da7a43",
   "metadata": {},
   "source": [
    "**proportion of count data on categorical columns**"
   ]
  },
  {
   "cell_type": "code",
   "execution_count": 24,
   "id": "6bf5721e",
   "metadata": {
    "id": "6bf5721e",
    "outputId": "390b79b7-409b-45b8-d66c-6f3ee6813a54"
   },
   "outputs": [
    {
     "name": "stdout",
     "output_type": "stream",
     "text": [
      "case_id\n",
      "EZYV01       0.003925\n",
      "EZYV16995    0.003925\n",
      "EZYV16993    0.003925\n",
      "EZYV16992    0.003925\n",
      "EZYV16991    0.003925\n",
      "               ...   \n",
      "EZYV8492     0.003925\n",
      "EZYV8491     0.003925\n",
      "EZYV8490     0.003925\n",
      "EZYV8489     0.003925\n",
      "EZYV25480    0.003925\n",
      "Name: proportion, Length: 25480, dtype: float64\n",
      "---------------------------\n",
      "continent\n",
      "Asia             66.173469\n",
      "Europe           14.646782\n",
      "North America    12.919937\n",
      "South America     3.343799\n",
      "Africa            2.162480\n",
      "Oceania           0.753532\n",
      "Name: proportion, dtype: float64\n",
      "---------------------------\n",
      "education_of_employee\n",
      "Bachelor's     40.164835\n",
      "Master's       37.810047\n",
      "High School    13.422292\n",
      "Doctorate       8.602826\n",
      "Name: proportion, dtype: float64\n",
      "---------------------------\n",
      "has_job_experience\n",
      "Y    58.092622\n",
      "N    41.907378\n",
      "Name: proportion, dtype: float64\n",
      "---------------------------\n",
      "requires_job_training\n",
      "N    88.402669\n",
      "Y    11.597331\n",
      "Name: proportion, dtype: float64\n",
      "---------------------------\n",
      "region_of_employment\n",
      "Northeast    28.237834\n",
      "South        27.539246\n",
      "West         25.847724\n",
      "Midwest      16.903454\n",
      "Island        1.471743\n",
      "Name: proportion, dtype: float64\n",
      "---------------------------\n",
      "unit_of_wage\n",
      "Year     90.117739\n",
      "Hour      8.465463\n",
      "Week      1.067504\n",
      "Month     0.349294\n",
      "Name: proportion, dtype: float64\n",
      "---------------------------\n",
      "full_time_position\n",
      "Y    89.375981\n",
      "N    10.624019\n",
      "Name: proportion, dtype: float64\n",
      "---------------------------\n",
      "case_status\n",
      "Certified    66.789639\n",
      "Denied       33.210361\n",
      "Name: proportion, dtype: float64\n",
      "---------------------------\n"
     ]
    }
   ],
   "source": [
    "for col in categorical_features:\n",
    "    print(df[col].value_counts(normalize=True) * 100)\n",
    "    print('---------------------------')"
   ]
  },
  {
   "cell_type": "markdown",
   "id": "5506aaef",
   "metadata": {
    "id": "5506aaef"
   },
   "source": [
    "**Insights**\n",
    " - `case_id` have unique values for each column which can be dropped as it of no importance\n",
    " - `continent` column is highly biased towards asia."
   ]
  },
  {
   "cell_type": "markdown",
   "id": "aafcd724",
   "metadata": {
    "id": "aafcd724"
   },
   "source": [
    "## Univariate Analysis"
   ]
  },
  {
   "cell_type": "markdown",
   "id": "6840a61e",
   "metadata": {
    "id": "6840a61e"
   },
   "source": [
    "* The term univariate analysis refers to the analysis of one variable prefix “uni” means “one.” The purpose of univariate analysis is to understand the distribution of values for a single variable.\n",
    "\n",
    "Other Type of Analysis are\n",
    "* **Bivariate Analysis:** The analysis of two variables.\n",
    "* **Multivariate Analysis:** The analysis of two or more variables."
   ]
  },
  {
   "cell_type": "markdown",
   "id": "d6c6262f",
   "metadata": {
    "id": "d6c6262f"
   },
   "source": [
    "### Categorical Features"
   ]
  },
  {
   "cell_type": "code",
   "execution_count": 26,
   "id": "612f41b3",
   "metadata": {
    "id": "612f41b3",
    "outputId": "46a91fe6-4f32-49a9-c256-3a2f8fb52694"
   },
   "outputs": [
    {
     "data": {
      "image/png": "[encoded data removed]",
      "text/plain": [
       "<Figure size 1500x800 with 8 Axes>"
      ]
     },
     "metadata": {},
     "output_type": "display_data"
    }
   ],
   "source": [
    "# categorical columns\n",
    "categorical_features.remove('case_id')\n",
    "plt.figure(figsize=(15, 8))\n",
    "plt.suptitle('Univariate Analysis of Categorical Features', fontsize=20, fontweight='bold', alpha=0.8, y=1.)\n",
    "\n",
    "for i in range(0, len(categorical_features)):\n",
    "    plt.subplot(3, 3, i+1)\n",
    "    sns.countplot(x=df[categorical_features[i]])\n",
    "    plt.xlabel(categorical_features[i])\n",
    "    plt.tight_layout()\n",
    "    \n",
    "# save plot\n",
    "# plt.savefig('./images/Univariate_Cat.png')"
   ]
  },
  {
   "cell_type": "markdown",
   "id": "70811882",
   "metadata": {
    "id": "70811882"
   },
   "source": [
    "## **Insights**\n",
    "\n",
    "From the uploaded **Univariate Analysis of Categorical Features** plots, you can infer the distribution of each categorical variable in your dataset. These visualizations give you insights into how different categories of each feature are represented. Here's a breakdown of what you can infer from each plot:\r\n",
    "\r\n",
    "### 1. **Continent**:\r\n",
    "   - The majority of the observations are from **Asia**, which dominates this category. Other continents like Africa, North America, Europe, South America, and Oceania have significantly fewer observations.\r\n",
    "   - This suggests that most employees or applicants in your dataset are from Asia.\r\n",
    "\r\n",
    "### 2. **Education of Employee**:\r\n",
    "   - **Bachelor's** and **Master's** degrees make up the largest portions of the education level distribution, with fewer employees having a **High School** or **Doctorate** degree.\r\n",
    "   - This indicates that the majority of individuals applying or in the dataset have relatively higher education levels (Bachelor's or Master's).\r\n",
    "\r\n",
    "### 3. **Has Job Experience**:\r\n",
    "   - A slightly larger proportion of employees **have job experience** (marked as \"Y\") compared to those without (\"N\").\r\n",
    "   - This suggests that prior job experience is common among the employees or applicants in your data.\r\n",
    "\r\n",
    "### 4. **Region of Employment**:\r\n",
    "   - The **West**, **Northeast**, and **South** regions dominate the employment regions, while the **Midwest** and **Island** regions have relatively fewer entries.\r\n",
    "   - This shows that the workforce or applicants are concentrated in these regions.\r\n",
    "\r\n",
    "### 5. **Unit of Wage**:\r\n",
    "   - The vast majority of the wages are given on a **yearly** basis, with very few instances of hourly, weekly, or monthly wage units.\r\n",
    "   - This suggests that most employees or applicants are paid on an annual basis.\r\n",
    "\r\n",
    "### 6. **Requires Job Training**:\r\n",
    "   - Most employees do **not require job training** (N), and only a small portion requires it (Y).\r\n",
    "   - This suggests that most of the jobs or applicants don’t need additional training.\r\n",
    "\r\n",
    "### 7. **Full-time Position**:\r\n",
    "   - Most of the positions are **full-time**, with very few part-time jobs represented in the dataset.\r\n",
    "   - This indicates that the dataset is dominated by full-time positions.\r\n",
    "\r\n",
    "### 8. **Case Status (Target Column)**:\r\n",
    "   - A larger number of cases are **Certified** compared to those that are **Denied**.\r\n",
    "   - This suggests that the majority of applications or cases in the dataset hgories in each feature are distributed."
   ]
  },
  {
   "cell_type": "markdown",
   "id": "9138ebb9",
   "metadata": {
    "id": "9138ebb9"
   },
   "source": [
    "## **Chi-Square Test**\n",
    "\n",
    "**Chi-square test determines if there is a significant association between categorical features and a target column (with categories like \"Denied\" and \"Certified\").**"
   ]
  },
  {
   "cell_type": "markdown",
   "id": "993aadd5",
   "metadata": {
    "id": "993aadd5"
   },
   "source": [
    "* **Here we test correlation of Categorical columns with Target column i.e case_status**"
   ]
  },
  {
   "cell_type": "markdown",
   "id": "63ec8a89",
   "metadata": {
    "id": "63ec8a89"
   },
   "source": [
    "Null Hypothesis ($ H_0 $): The Feature is independent of target column (No-Correlation)\n",
    "\n",
    "Alternative Hypothesis ($ H_1 $): The Feature and Target column are not independent (Correlated)"
   ]
  },
  {
   "cell_type": "code",
   "execution_count": 31,
   "id": "873d91f0-01a2-4ac5-819e-6d69f8491e93",
   "metadata": {},
   "outputs": [
    {
     "data": {
      "text/html": [
       "<div>\n",
       "<style scoped>\n",
       "    .dataframe tbody tr th:only-of-type {\n",
       "        vertical-align: middle;\n",
       "    }\n",
       "\n",
       "    .dataframe tbody tr th {\n",
       "        vertical-align: top;\n",
       "    }\n",
       "\n",
       "    .dataframe thead th {\n",
       "        text-align: right;\n",
       "    }\n",
       "</style>\n",
       "<table border=\"1\" class=\"dataframe\">\n",
       "  <thead>\n",
       "    <tr style=\"text-align: right;\">\n",
       "      <th></th>\n",
       "      <th>Column</th>\n",
       "      <th>Hypothesis Result</th>\n",
       "    </tr>\n",
       "  </thead>\n",
       "  <tbody>\n",
       "    <tr>\n",
       "      <th>0</th>\n",
       "      <td>continent</td>\n",
       "      <td>Reject Null Hypothesis</td>\n",
       "    </tr>\n",
       "    <tr>\n",
       "      <th>1</th>\n",
       "      <td>education_of_employee</td>\n",
       "      <td>Reject Null Hypothesis</td>\n",
       "    </tr>\n",
       "    <tr>\n",
       "      <th>2</th>\n",
       "      <td>has_job_experience</td>\n",
       "      <td>Reject Null Hypothesis</td>\n",
       "    </tr>\n",
       "    <tr>\n",
       "      <th>3</th>\n",
       "      <td>requires_job_training</td>\n",
       "      <td>Fail to Reject Null Hypothesis</td>\n",
       "    </tr>\n",
       "    <tr>\n",
       "      <th>4</th>\n",
       "      <td>region_of_employment</td>\n",
       "      <td>Reject Null Hypothesis</td>\n",
       "    </tr>\n",
       "    <tr>\n",
       "      <th>5</th>\n",
       "      <td>unit_of_wage</td>\n",
       "      <td>Reject Null Hypothesis</td>\n",
       "    </tr>\n",
       "    <tr>\n",
       "      <th>6</th>\n",
       "      <td>full_time_position</td>\n",
       "      <td>Reject Null Hypothesis</td>\n",
       "    </tr>\n",
       "    <tr>\n",
       "      <th>7</th>\n",
       "      <td>case_status</td>\n",
       "      <td>Reject Null Hypothesis</td>\n",
       "    </tr>\n",
       "  </tbody>\n",
       "</table>\n",
       "</div>"
      ],
      "text/plain": [
       "                  Column               Hypothesis Result\n",
       "0              continent          Reject Null Hypothesis\n",
       "1  education_of_employee          Reject Null Hypothesis\n",
       "2     has_job_experience          Reject Null Hypothesis\n",
       "3  requires_job_training  Fail to Reject Null Hypothesis\n",
       "4   region_of_employment          Reject Null Hypothesis\n",
       "5           unit_of_wage          Reject Null Hypothesis\n",
       "6     full_time_position          Reject Null Hypothesis\n",
       "7            case_status          Reject Null Hypothesis"
      ]
     },
     "execution_count": 31,
     "metadata": {},
     "output_type": "execute_result"
    }
   ],
   "source": [
    "from scipy.stats import chi2_contingency  \n",
    "\n",
    "# Initialize an empty list to store the results of the Chi-square test for each categorical feature\n",
    "chi2_test = []  \n",
    "\n",
    "# Loop through each categorical feature in the dataset\n",
    "for feature in categorical_features:\n",
    "    \n",
    "    # Create a contingency table using pd.crosstab to compare the 'case_status' (target column) with the current feature\n",
    "    # pd.crosstab creates a frequency table of the two categorical variables (case_status and the feature)\n",
    "    contingency_table = pd.crosstab(df['case_status'], df[feature])\n",
    "    \n",
    "    # Perform the Chi-square test on the contingency table using chi2_contingency.\n",
    "    # chi2_contingency returns 4 values: chi2 statistic, p-value, degrees of freedom, and the expected frequencies.\n",
    "    # We use `[1]` to extract the p-value.\n",
    "    p_value = chi2_contingency(contingency_table)[1]\n",
    "    \n",
    "    # Check if the p-value is less than 0.05 (standard significance level)\n",
    "    if p_value < 0.05:\n",
    "        # If the p-value is less than 0.05, we reject the null hypothesis, meaning that the feature is likely associated with 'case_status'\n",
    "        chi2_test.append('Reject Null Hypothesis')\n",
    "    else:\n",
    "        # If the p-value is greater than or equal to 0.05, we fail to reject the null hypothesis, meaning that there is no significant association\n",
    "        chi2_test.append('Fail to Reject Null Hypothesis')\n",
    "\n",
    "# We pass the list of categorical features and the chi2_test results as rows, transposed (.T) to make them columns\n",
    "result = pd.DataFrame(data=[categorical_features, chi2_test]).T\n",
    "\n",
    "# Rename the columns of the DataFrame to 'Column' (for feature name) and 'Hypothesis Result' (for the test result)\n",
    "result.columns = ['Column', 'Hypothesis Result']\n",
    "\n",
    "# Display the resulting DataFrame\n",
    "result\n"
   ]
  },
  {
   "cell_type": "markdown",
   "id": "4293477c-1589-4b24-9b4a-8506cc5b8034",
   "metadata": {},
   "source": [
    "## **Report**\n",
    "\n",
    "The table summarizes the results of Chi-square tests conducted on various categorical features in relation to the target variable, `case_status`. \r\n",
    "\r\n",
    "### Table Explanation\r\n",
    "\r\n",
    "1. **Columns**:\r\n",
    "   - **Column**: This refers to the categorical feature that was tested for independence with the target variable `case_status`.\r\n",
    "   - **Hypothesis Result**: This shows the outcome of the Chi-square test for each feature concerning the null hypothesis.\r\n",
    "\r\n",
    "2. **Results**:\r\n",
    "   - **Reject Null Hypothesis**: This outcome suggests that there is a statistically significant association between the feature and the target variable (`case_status`). In other words, the distribution of the target variable varies depending on the category of the feature.\r\n",
    "   - **Fail to Reject Null Hypothesis**: This means there is no statistically significant evidence to suggest an association between the feature and the target variable. The feature does not significantly influence or relate to the distribution of the target variable.\r\n",
    "\r\n",
    "### Interpretation of Each Row\r\n",
    "\r\n",
    "- **`continent`**: The result indicates a significant relationship between `continent` and `case_status`, meaning that the status (Denied or Certified) is likely dependent on the continent from which the individual is.\r\n",
    "  \r\n",
    "- **`education_of_employee`**: Similar to `continent`, this feature shows a significant association with the target variable, suggesting that educational background may influence the outcome of `case_status`.\r\n",
    "\r\n",
    "- **`has_job_experience`**: This feature also shows a significant relationship, indicating that whether an individual has job experience could affect their `case_status`.\r\n",
    "\r\n",
    "- **`requires_job_training`**: The result shows \"Fail to Reject Null Hypothesis,\" indicating no significant association with `case_status`. This suggests that the requirement for job training does not meaningfully affect the outcome.\r\n",
    "\r\n",
    "- **`region_of_employment`**: This feature is significant, suggesting that the region where an individual is employed may influence their `case_status`.\r\n",
    "\r\n",
    "- **`unit_of_wage`**: This feature also indicates a significant relationship with the `case_status`, implying that how wages are calculated might affect the outcome.\r\n",
    "\r\n",
    "- **`full_time_position`**: The outcome here suggests a significant association, meaning whether an employee is in a full-time position can influence their `case_status`.\r\n",
    "\r\n",
    "- **`case_status`**: While it may seem redundant to include `case_status` in this context, its inclusion here confirms that the variable is indeed significant to itself (which is a logical requirement).\r\n",
    "\r\n",
    "### Overall Conclusion\r\n",
    "\r\n",
    "The overall results suggest that several categorical features are significantly associated with the `case_status`, while only `requires_job_training` does not show a significant relationship. \r\n",
    "\r\n",
    "This implies that when predicting or analyzing `case_status`, the features `continent`, `education_of_employee`, `has_job_experience`, `region_of_employment`, `unit_of_wage`, and `full_time_position` should be considered as they might have a meaningful impact on the outcome. The results of this Chi-square test can guide further analysis and modeling efforts, as it highlights features worth focusing on for understandiation on any part, feel free to ask!"
   ]
  },
  {
   "cell_type": "markdown",
   "id": "0593b082-2084-48f4-9819-34ff0fbbd794",
   "metadata": {},
   "source": [
    "######################################################End-of-Code#####################################################"
   ]
  }
 ],
 "metadata": {
  "colab": {
   "provenance": []
  },
  "kernelspec": {
   "display_name": "Python 3 (ipykernel)",
   "language": "python",
   "name": "python3"
  },
  "language_info": {
   "codemirror_mode": {
    "name": "ipython",
    "version": 3
   },
   "file_extension": ".py",
   "mimetype": "text/x-python",
   "name": "python",
   "nbconvert_exporter": "python",
   "pygments_lexer": "ipython3",
   "version": "3.11.7"
  },
  "vscode": {
   "interpreter": {
    "hash": "e6422fc631fadc7a14dbe43d10d544a88c5583408f68c588bbe9704b9c540dab"
   }
  }
 },
 "nbformat": 4,
 "nbformat_minor": 5
}
