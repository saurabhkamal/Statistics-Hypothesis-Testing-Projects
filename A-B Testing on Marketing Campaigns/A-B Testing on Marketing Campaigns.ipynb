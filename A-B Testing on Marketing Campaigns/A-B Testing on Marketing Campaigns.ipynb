{
 "cells": [
  {
   "cell_type": "markdown",
   "metadata": {},
   "source": [
    "# A/B Testing on Marketing Campaigns\n",
    "\n",
    "## Introduction\n",
    "\n",
    "This project aimed to evaluate the effectiveness of three different marketing campaigns using A/B testing and statistical analyses to determine which campaign performed best in generating sales. The campaigns, named Campaign 1, Campaign 2, and Campaign 3, were designed to engage the target audience and drive sales. With the primary goal of maximizing marketing impact, the evaluation focused on identifying whether any significant differences existed among the campaigns and determining which one would yield the highest return on investment.\n",
    "\n",
    "To conduct this analysis, a combination of ANOVA (Analysis of Variance) and Independent Sample T-Test was employed. The ANOVA test allowed us to assess the differences among the three campaigns simultaneously, while the Independent Sample T-Tests helped further investigate specific pairwise comparisons to understand which campaigns performed significantly better. This approach ensured that the analysis was both comprehensive and precise in identifying the key insights.\n",
    "\n",
    "The results of the A/B testing and statistical analyses have provided valuable insights into the relative performance of the campaigns, enabling us to make informed recommendations for optimizing marketing strategies. By comparing the sales outcomes of the three campaigns, this report aims to guide decision-making in resource allocation, campaign improvements, and identifying successful strategies that can be scaled up for future marketing initiatives.\n",
    "\n",
    "### Steps in A/B Testing\n",
    "1. **Designing Our Experiment - Formulating Hypothesis**\n",
    "2. **Loading the data and the required libraries**\n",
    "3. **Data Exploration**\n",
    "4. **Statistical Analysis: Performing A/B Testing on Three Marketing Campaigns**\n",
    "5. **Drawing conclusions and Recommendations**\n",
    "\n",
    "     "
   ]
  },
  {
   "cell_type": "markdown",
   "metadata": {},
   "source": [
    "### 1. **Define Hypothesis**:\n",
    "   - Null Hypothesis (H0): There is no significant difference in sales between the different campaigns.\n",
    "   - Alternate Hypothesis (H1): There is a significant difference in sales between the campaigns."
   ]
  },
  {
   "cell_type": "markdown",
   "metadata": {},
   "source": [
    "### 2. **Loading the data and the required libraries**"
   ]
  },
  {
   "cell_type": "code",
   "execution_count": 62,
   "metadata": {},
   "outputs": [],
   "source": [
    "import pandas as pd\n",
    "import matplotlib.pyplot as plt\n",
    "import seaborn as sns\n",
    "from scipy import stats\n",
    "sns.set()\n",
    "\n",
    "import warnings\n",
    "warnings.filterwarnings('ignore')"
   ]
  },
  {
   "cell_type": "code",
   "execution_count": 28,
   "metadata": {
    "colab": {
     "base_uri": "https://localhost:8080/",
     "height": 355
    },
    "colab_type": "code",
    "executionInfo": {
     "elapsed": 1618,
     "status": "ok",
     "timestamp": 1573997963947,
     "user": {
      "displayName": "Rajeev Ratan",
      "photoUrl": "https://lh3.googleusercontent.com/a-/AAuE7mCGo6aIm0tOcd5EhqWlYb0rime9sBvHS9YMpx0D2w=s64",
      "userId": "08597265227091462140"
     },
     "user_tz": 0
    },
    "id": "JFrtn4mCiqyP",
    "outputId": "9376b70e-ac45-4c88-8ccf-47d1a91d0c4b"
   },
   "outputs": [
    {
     "data": {
      "text/html": [
       "<div>\n",
       "<style scoped>\n",
       "    .dataframe tbody tr th:only-of-type {\n",
       "        vertical-align: middle;\n",
       "    }\n",
       "\n",
       "    .dataframe tbody tr th {\n",
       "        vertical-align: top;\n",
       "    }\n",
       "\n",
       "    .dataframe thead th {\n",
       "        text-align: right;\n",
       "    }\n",
       "</style>\n",
       "<table border=\"1\" class=\"dataframe\">\n",
       "  <thead>\n",
       "    <tr style=\"text-align: right;\">\n",
       "      <th></th>\n",
       "      <th>OutletID</th>\n",
       "      <th>MarketSize</th>\n",
       "      <th>AgeofOutlets</th>\n",
       "      <th>Campaigns</th>\n",
       "      <th>Week</th>\n",
       "      <th>SalesInThousands</th>\n",
       "    </tr>\n",
       "  </thead>\n",
       "  <tbody>\n",
       "    <tr>\n",
       "      <th>0</th>\n",
       "      <td>1</td>\n",
       "      <td>Medium</td>\n",
       "      <td>4</td>\n",
       "      <td>3</td>\n",
       "      <td>1</td>\n",
       "      <td>33.73</td>\n",
       "    </tr>\n",
       "    <tr>\n",
       "      <th>1</th>\n",
       "      <td>1</td>\n",
       "      <td>Medium</td>\n",
       "      <td>4</td>\n",
       "      <td>3</td>\n",
       "      <td>2</td>\n",
       "      <td>35.67</td>\n",
       "    </tr>\n",
       "    <tr>\n",
       "      <th>2</th>\n",
       "      <td>1</td>\n",
       "      <td>Medium</td>\n",
       "      <td>4</td>\n",
       "      <td>3</td>\n",
       "      <td>3</td>\n",
       "      <td>29.03</td>\n",
       "    </tr>\n",
       "    <tr>\n",
       "      <th>3</th>\n",
       "      <td>1</td>\n",
       "      <td>Medium</td>\n",
       "      <td>4</td>\n",
       "      <td>3</td>\n",
       "      <td>4</td>\n",
       "      <td>39.25</td>\n",
       "    </tr>\n",
       "    <tr>\n",
       "      <th>4</th>\n",
       "      <td>2</td>\n",
       "      <td>Medium</td>\n",
       "      <td>5</td>\n",
       "      <td>2</td>\n",
       "      <td>1</td>\n",
       "      <td>27.81</td>\n",
       "    </tr>\n",
       "    <tr>\n",
       "      <th>5</th>\n",
       "      <td>2</td>\n",
       "      <td>Medium</td>\n",
       "      <td>5</td>\n",
       "      <td>2</td>\n",
       "      <td>2</td>\n",
       "      <td>34.67</td>\n",
       "    </tr>\n",
       "    <tr>\n",
       "      <th>6</th>\n",
       "      <td>2</td>\n",
       "      <td>Medium</td>\n",
       "      <td>5</td>\n",
       "      <td>2</td>\n",
       "      <td>3</td>\n",
       "      <td>27.98</td>\n",
       "    </tr>\n",
       "    <tr>\n",
       "      <th>7</th>\n",
       "      <td>2</td>\n",
       "      <td>Medium</td>\n",
       "      <td>5</td>\n",
       "      <td>2</td>\n",
       "      <td>4</td>\n",
       "      <td>27.72</td>\n",
       "    </tr>\n",
       "    <tr>\n",
       "      <th>8</th>\n",
       "      <td>3</td>\n",
       "      <td>Medium</td>\n",
       "      <td>12</td>\n",
       "      <td>1</td>\n",
       "      <td>1</td>\n",
       "      <td>44.54</td>\n",
       "    </tr>\n",
       "    <tr>\n",
       "      <th>9</th>\n",
       "      <td>3</td>\n",
       "      <td>Medium</td>\n",
       "      <td>12</td>\n",
       "      <td>1</td>\n",
       "      <td>2</td>\n",
       "      <td>37.94</td>\n",
       "    </tr>\n",
       "  </tbody>\n",
       "</table>\n",
       "</div>"
      ],
      "text/plain": [
       "   OutletID MarketSize  AgeofOutlets  Campaigns  Week  SalesInThousands\n",
       "0         1     Medium             4          3     1             33.73\n",
       "1         1     Medium             4          3     2             35.67\n",
       "2         1     Medium             4          3     3             29.03\n",
       "3         1     Medium             4          3     4             39.25\n",
       "4         2     Medium             5          2     1             27.81\n",
       "5         2     Medium             5          2     2             34.67\n",
       "6         2     Medium             5          2     3             27.98\n",
       "7         2     Medium             5          2     4             27.72\n",
       "8         3     Medium            12          1     1             44.54\n",
       "9         3     Medium            12          1     2             37.94"
      ]
     },
     "execution_count": 28,
     "metadata": {},
     "output_type": "execute_result"
    }
   ],
   "source": [
    "df = pd.read_csv('campaigns.csv')\n",
    "df.head(10)"
   ]
  },
  {
   "cell_type": "code",
   "execution_count": 29,
   "metadata": {},
   "outputs": [
    {
     "data": {
      "text/plain": [
       "(548, 6)"
      ]
     },
     "execution_count": 29,
     "metadata": {},
     "output_type": "execute_result"
    }
   ],
   "source": [
    "df.shape"
   ]
  },
  {
   "cell_type": "markdown",
   "metadata": {},
   "source": [
    "**The dataset contains the following columns:**\n",
    "\n",
    "1. OutletID: Unique identifier for each outlet.\n",
    "2. MarketSize: The size of the market that each outlet serves (e.g., Medium).\n",
    "3. AgeofOutlets: The age (in years) of each outlet.\n",
    "4. Campaigns: The campaign ID that was run for that particular outlet.\n",
    "5. Week: The week number in which data is recorded.\n",
    "6. SalesInThousands: The sales amount (in thousands) for each outlet during the respective week."
   ]
  },
  {
   "cell_type": "code",
   "execution_count": 30,
   "metadata": {},
   "outputs": [
    {
     "name": "stdout",
     "output_type": "stream",
     "text": [
      "Rows            : 548\n",
      "Columns         : 6\n",
      "Features        : ['OutletID', 'MarketSize', 'AgeofOutlets', 'Campaigns', 'Week', 'SalesInThousands']\n",
      "Missing Values  : 0\n",
      "Unique Values   : \n",
      "\n",
      "OutletID            137\n",
      "MarketSize            3\n",
      "AgeofOutlets         25\n",
      "Campaigns             3\n",
      "Week                  4\n",
      "SalesInThousands    517\n",
      "dtype: int64\n"
     ]
    }
   ],
   "source": [
    "print(f'Rows            : {df.shape[0]}')\n",
    "print(f'Columns         : {df.shape[1]}')\n",
    "print(f'Features        : {df.columns.tolist()}')\n",
    "print(f'Missing Values  : {df.isnull().values.sum()}')\n",
    "print(f'Unique Values   : \\n\\n{df.nunique()}')"
   ]
  },
  {
   "cell_type": "code",
   "execution_count": 31,
   "metadata": {
    "colab": {
     "base_uri": "https://localhost:8080/",
     "height": 294
    },
    "colab_type": "code",
    "executionInfo": {
     "elapsed": 991,
     "status": "ok",
     "timestamp": 1573997963951,
     "user": {
      "displayName": "Rajeev Ratan",
      "photoUrl": "https://lh3.googleusercontent.com/a-/AAuE7mCGo6aIm0tOcd5EhqWlYb0rime9sBvHS9YMpx0D2w=s64",
      "userId": "08597265227091462140"
     },
     "user_tz": 0
    },
    "id": "nXf1B035hQg7",
    "outputId": "ee48ccdb-5b41-4193-e21c-9eef41646494"
   },
   "outputs": [
    {
     "data": {
      "text/html": [
       "<div>\n",
       "<style scoped>\n",
       "    .dataframe tbody tr th:only-of-type {\n",
       "        vertical-align: middle;\n",
       "    }\n",
       "\n",
       "    .dataframe tbody tr th {\n",
       "        vertical-align: top;\n",
       "    }\n",
       "\n",
       "    .dataframe thead th {\n",
       "        text-align: right;\n",
       "    }\n",
       "</style>\n",
       "<table border=\"1\" class=\"dataframe\">\n",
       "  <thead>\n",
       "    <tr style=\"text-align: right;\">\n",
       "      <th></th>\n",
       "      <th>OutletID</th>\n",
       "      <th>AgeofOutlets</th>\n",
       "      <th>Campaigns</th>\n",
       "      <th>Week</th>\n",
       "      <th>SalesInThousands</th>\n",
       "    </tr>\n",
       "  </thead>\n",
       "  <tbody>\n",
       "    <tr>\n",
       "      <th>count</th>\n",
       "      <td>548.000000</td>\n",
       "      <td>548.000000</td>\n",
       "      <td>548.000000</td>\n",
       "      <td>548.000000</td>\n",
       "      <td>548.000000</td>\n",
       "    </tr>\n",
       "    <tr>\n",
       "      <th>mean</th>\n",
       "      <td>479.656934</td>\n",
       "      <td>8.503650</td>\n",
       "      <td>2.029197</td>\n",
       "      <td>2.500000</td>\n",
       "      <td>53.466204</td>\n",
       "    </tr>\n",
       "    <tr>\n",
       "      <th>std</th>\n",
       "      <td>287.973679</td>\n",
       "      <td>6.638345</td>\n",
       "      <td>0.810729</td>\n",
       "      <td>1.119055</td>\n",
       "      <td>16.755216</td>\n",
       "    </tr>\n",
       "    <tr>\n",
       "      <th>min</th>\n",
       "      <td>1.000000</td>\n",
       "      <td>1.000000</td>\n",
       "      <td>1.000000</td>\n",
       "      <td>1.000000</td>\n",
       "      <td>17.340000</td>\n",
       "    </tr>\n",
       "    <tr>\n",
       "      <th>25%</th>\n",
       "      <td>216.000000</td>\n",
       "      <td>4.000000</td>\n",
       "      <td>1.000000</td>\n",
       "      <td>1.750000</td>\n",
       "      <td>42.545000</td>\n",
       "    </tr>\n",
       "    <tr>\n",
       "      <th>50%</th>\n",
       "      <td>504.000000</td>\n",
       "      <td>7.000000</td>\n",
       "      <td>2.000000</td>\n",
       "      <td>2.500000</td>\n",
       "      <td>50.200000</td>\n",
       "    </tr>\n",
       "    <tr>\n",
       "      <th>75%</th>\n",
       "      <td>708.000000</td>\n",
       "      <td>12.000000</td>\n",
       "      <td>3.000000</td>\n",
       "      <td>3.250000</td>\n",
       "      <td>60.477500</td>\n",
       "    </tr>\n",
       "    <tr>\n",
       "      <th>max</th>\n",
       "      <td>920.000000</td>\n",
       "      <td>28.000000</td>\n",
       "      <td>3.000000</td>\n",
       "      <td>4.000000</td>\n",
       "      <td>99.650000</td>\n",
       "    </tr>\n",
       "  </tbody>\n",
       "</table>\n",
       "</div>"
      ],
      "text/plain": [
       "         OutletID  AgeofOutlets   Campaigns        Week  SalesInThousands\n",
       "count  548.000000    548.000000  548.000000  548.000000        548.000000\n",
       "mean   479.656934      8.503650    2.029197    2.500000         53.466204\n",
       "std    287.973679      6.638345    0.810729    1.119055         16.755216\n",
       "min      1.000000      1.000000    1.000000    1.000000         17.340000\n",
       "25%    216.000000      4.000000    1.000000    1.750000         42.545000\n",
       "50%    504.000000      7.000000    2.000000    2.500000         50.200000\n",
       "75%    708.000000     12.000000    3.000000    3.250000         60.477500\n",
       "max    920.000000     28.000000    3.000000    4.000000         99.650000"
      ]
     },
     "execution_count": 31,
     "metadata": {},
     "output_type": "execute_result"
    }
   ],
   "source": [
    "df.describe()"
   ]
  },
  {
   "cell_type": "markdown",
   "metadata": {},
   "source": [
    "**The summary statistics - key insights into the dataset:**\n",
    "\n",
    "1. **Count**: There are 548 rows for all columns, meaning there are no missing values.\n",
    "\n",
    "2. **Mean (Average)**:\n",
    "   - **AgeofOutlets**: The average age of the outlets is about 8.5 years.\n",
    "   - **Campaigns**: On average, outlets are subjected to campaign type \"2\".\n",
    "   - **SalesInThousands**: The average sales per week for an outlet is around USD53.47K.\n",
    "\n",
    "3. **Standard Deviation (std)**:\n",
    "   - **AgeofOutlets** has a high standard deviation (6.64), indicating significant variation in the age of the outlets.\n",
    "   - **SalesInThousands** also has a high standard deviation (16.76), implying considerable fluctuation in weekly sales figures.\n",
    "\n",
    "4. **Minimum and Maximum**:\n",
    "   - **AgeofOutlets** ranges from 1 year to 28 years, showing diverse outlet ages.\n",
    "   - **Campaigns** has a range from 1 to 3, meaning there are three different campaigns being tested.\n",
    "   - **SalesInThousands** ranges from USD17.34K to USD99.65K.\n",
    "\n",
    "5. **Percentiles (25%, 50%, 75%)**:\n",
    "   - **SalesInThousands**:\n",
    "     - 25th percentile is USD42.55K, which means 25% of the weekly sales are below this value.\n",
    "     - Median (50%) is USD50.20K, meaning half of the weeks have sales below USD50.20K.\n",
    "     - 75th percentile is USD60.48K, showing that 75% of the weekly sales are below this value.\n",
    "\n",
    "### Key Takeaways\n",
    "- The sales values show substantial variation, which might be linked to outlet age, market size, or the type of campaign run.\n",
    "- The distribution of campaign IDs (ranging from 1 to 3) means that the dataset contains data from three different campaigns, which is useful for A/B testing analysis.\n",
    "\n"
   ]
  },
  {
   "cell_type": "markdown",
   "metadata": {
    "colab_type": "text",
    "id": "lc6EtBPmT2jt"
   },
   "source": [
    "### 3. **Data Exploration**\n",
    "\n",
    "#### 3.1 Sales Distribution Across the 3 Different Promotions"
   ]
  },
  {
   "cell_type": "code",
   "execution_count": 63,
   "metadata": {
    "colab": {
     "base_uri": "https://localhost:8080/",
     "height": 483
    },
    "colab_type": "code",
    "executionInfo": {
     "elapsed": 1296,
     "status": "ok",
     "timestamp": 1573997964880,
     "user": {
      "displayName": "Rajeev Ratan",
      "photoUrl": "https://lh3.googleusercontent.com/a-/AAuE7mCGo6aIm0tOcd5EhqWlYb0rime9sBvHS9YMpx0D2w=s64",
      "userId": "08597265227091462140"
     },
     "user_tz": 0
    },
    "id": "doSO_gqViqyZ",
    "outputId": "a84827fc-fe67-41ea-db14-e1fced3cc5e7"
   },
   "outputs": [
    {
     "data": {
      "image/png": "[encoded data removed]",
      "text/plain": [
       "<Figure size 3000x600 with 1 Axes>"
      ]
     },
     "metadata": {},
     "output_type": "display_data"
    }
   ],
   "source": [
    "plt.style.use('fivethirtyeight')\n",
    "ax = df.groupby('Campaigns').sum()['SalesInThousands'].plot.pie(figsize=(30,6),\n",
    "                                                                autopct='%1.0f%%',\n",
    "                                                                explode = (0, 0.1, 0),\n",
    "                                                                textprops = {'fontsize' : 15})\n",
    "ax.set_ylabel('')\n",
    "ax.set_title('Sales Distribution Across the 3 Different Promotions', fontsize = 12)\n",
    "\n",
    "plt.show()"
   ]
  },
  {
   "cell_type": "markdown",
   "metadata": {},
   "source": [
    "**Key Insights:**\n",
    "- Campaign 1 and Campaign 3 have the largest shares of total sales, while Campaign 2 has a notably smaller share.\n",
    "\n",
    "This insight can be useful for stakeholders to decide which campaign strategies to continue or improve."
   ]
  },
  {
   "cell_type": "markdown",
   "metadata": {},
   "source": [
    "#### 3.2 Sales Distribution Across Different Campaigns"
   ]
  },
  {
   "cell_type": "code",
   "execution_count": 33,
   "metadata": {},
   "outputs": [
    {
     "data": {
      "image/png": "[encoded data removed]",
      "text/plain": [
       "<Figure size 1000x600 with 1 Axes>"
      ]
     },
     "metadata": {},
     "output_type": "display_data"
    }
   ],
   "source": [
    "import matplotlib.pyplot as plt\n",
    "import seaborn as sns\n",
    "\n",
    "# Set the style for seaborn\n",
    "sns.set(style=\"whitegrid\")\n",
    "\n",
    "# Visualizing sales across different campaigns using boxplot\n",
    "plt.figure(figsize=(10, 6))\n",
    "sns.boxplot(x='Campaigns', y='SalesInThousands', data=df)\n",
    "plt.title('Sales Distribution Across Different Campaigns')\n",
    "plt.xlabel('Campaigns')\n",
    "plt.ylabel('Sales (in Thousands)')\n",
    "plt.show()\n"
   ]
  },
  {
   "cell_type": "markdown",
   "metadata": {},
   "source": [
    "The boxplot above shows the **distribution of sales across different campaigns**:\r\n",
    "\r\n",
    "- **Campaign 1**: \r\n",
    "  - The median sales are higher compared to the other campaigns.\r\n",
    "  - There is a wider range of sales, indicating that the sales values have more variability.\r\n",
    "  - There are several outliers above the upper whisker, indicating higher-than-expected sales for some outlets.\r\n",
    "\r\n",
    "- **Campaign 2**:\r\n",
    "  - The median sales are lower compared to Campaign 1 and Campaign 3.\r\n",
    "  - The sales distribution is narrower, indicating less variability compared to Campaign 1.\r\n",
    "  - There are also some outliers above and below the whiskers, showing variability in performance.\r\n",
    "\r\n",
    "- **Campaign 3**:\r\n",
    "  - The median sales are closer to Campaign 1 but still slightly lower.\r\n",
    "  - There is also considerable variability in sales values.\r\n",
    "  - There are outliers above the whisker, but fewer compared to Campaign 1.\r\n",
    "\r\n",
    "### Key Takeaways:\r\n",
    "- **Campaign 1** appears to have the highest median sales, but also the highest variability.\r\n",
    "- **Campaign 2** seems to have lower median sales with less variability, but it may not be the most effective campaign given its performance.\r\n",
    "- **Campaign 3** is a balanced option with a good median sales and mod to proceed with that?"
   ]
  },
  {
   "cell_type": "code",
   "execution_count": 34,
   "metadata": {},
   "outputs": [
    {
     "data": {
      "text/html": [
       "<div>\n",
       "<style scoped>\n",
       "    .dataframe tbody tr th:only-of-type {\n",
       "        vertical-align: middle;\n",
       "    }\n",
       "\n",
       "    .dataframe tbody tr th {\n",
       "        vertical-align: top;\n",
       "    }\n",
       "\n",
       "    .dataframe thead th {\n",
       "        text-align: right;\n",
       "    }\n",
       "</style>\n",
       "<table border=\"1\" class=\"dataframe\">\n",
       "  <thead>\n",
       "    <tr style=\"text-align: right;\">\n",
       "      <th></th>\n",
       "      <th>count</th>\n",
       "      <th>mean</th>\n",
       "      <th>std</th>\n",
       "      <th>min</th>\n",
       "      <th>25%</th>\n",
       "      <th>50%</th>\n",
       "      <th>75%</th>\n",
       "      <th>max</th>\n",
       "    </tr>\n",
       "    <tr>\n",
       "      <th>Campaigns</th>\n",
       "      <th></th>\n",
       "      <th></th>\n",
       "      <th></th>\n",
       "      <th></th>\n",
       "      <th></th>\n",
       "      <th></th>\n",
       "      <th></th>\n",
       "      <th></th>\n",
       "    </tr>\n",
       "  </thead>\n",
       "  <tbody>\n",
       "    <tr>\n",
       "      <th>1</th>\n",
       "      <td>172.0</td>\n",
       "      <td>58.099012</td>\n",
       "      <td>16.553782</td>\n",
       "      <td>30.81</td>\n",
       "      <td>46.3525</td>\n",
       "      <td>55.385</td>\n",
       "      <td>63.6175</td>\n",
       "      <td>99.65</td>\n",
       "    </tr>\n",
       "    <tr>\n",
       "      <th>2</th>\n",
       "      <td>188.0</td>\n",
       "      <td>47.329415</td>\n",
       "      <td>15.108955</td>\n",
       "      <td>17.34</td>\n",
       "      <td>38.1700</td>\n",
       "      <td>45.385</td>\n",
       "      <td>51.7450</td>\n",
       "      <td>88.64</td>\n",
       "    </tr>\n",
       "    <tr>\n",
       "      <th>3</th>\n",
       "      <td>188.0</td>\n",
       "      <td>55.364468</td>\n",
       "      <td>16.766231</td>\n",
       "      <td>22.18</td>\n",
       "      <td>44.1975</td>\n",
       "      <td>51.165</td>\n",
       "      <td>61.7325</td>\n",
       "      <td>96.48</td>\n",
       "    </tr>\n",
       "  </tbody>\n",
       "</table>\n",
       "</div>"
      ],
      "text/plain": [
       "           count       mean        std    min      25%     50%      75%    max\n",
       "Campaigns                                                                     \n",
       "1          172.0  58.099012  16.553782  30.81  46.3525  55.385  63.6175  99.65\n",
       "2          188.0  47.329415  15.108955  17.34  38.1700  45.385  51.7450  88.64\n",
       "3          188.0  55.364468  16.766231  22.18  44.1975  51.165  61.7325  96.48"
      ]
     },
     "execution_count": 34,
     "metadata": {},
     "output_type": "execute_result"
    }
   ],
   "source": [
    "campaign_sales_summary = df.groupby('Campaigns')['SalesInThousands'].describe()\n",
    "campaign_sales_summary"
   ]
  },
  {
   "cell_type": "code",
   "execution_count": 35,
   "metadata": {},
   "outputs": [
    {
     "name": "stdout",
     "output_type": "stream",
     "text": [
      "   Campaign  Min Whisker  Max Whisker\n",
      "0         1        30.81        89.51\n",
      "1         2        17.81        72.11\n",
      "2         3        22.18        88.04\n"
     ]
    }
   ],
   "source": [
    "# Recalculate IQR, lower whisker, and upper whisker correctly\n",
    "\n",
    "# Extract Q1, Q3, and calculate IQR\n",
    "campaign_sales_summary['Q1'] = campaign_sales_summary['25%']\n",
    "campaign_sales_summary['Q3'] = campaign_sales_summary['75%']\n",
    "campaign_sales_summary['IQR'] = campaign_sales_summary['Q3'] - campaign_sales_summary['Q1']\n",
    "\n",
    "# Calculate the lower whisker using the formula: max(Min, Q1 - 1.5 * IQR)\n",
    "campaign_sales_summary['Lower Whisker'] = campaign_sales_summary[['min', 'Q1']].apply(\n",
    "    lambda row: max(row['min'], row['Q1'] - 1.5 * campaign_sales_summary.loc[row.name, 'IQR']), axis=1\n",
    ")\n",
    "\n",
    "# Calculate the upper whisker using the formula: min(Max, Q3 + 1.5 * IQR)\n",
    "campaign_sales_summary['Upper Whisker'] = campaign_sales_summary[['max', 'Q3']].apply(\n",
    "    lambda row: min(row['max'], row['Q3'] + 1.5 * campaign_sales_summary.loc[row.name, 'IQR']), axis=1\n",
    ")\n",
    "\n",
    "# Create a separate dataframe for minimum and maximum whiskers for each campaign\n",
    "whiskers_df = campaign_sales_summary[['Lower Whisker', 'Upper Whisker']].reset_index()\n",
    "whiskers_df.columns = ['Campaign', 'Min Whisker', 'Max Whisker']\n",
    "\n",
    "# Round the whiskers values to 2 decimal places\n",
    "whiskers_df = whiskers_df.round(2)\n",
    "\n",
    "print(whiskers_df)\n"
   ]
  },
  {
   "cell_type": "markdown",
   "metadata": {},
   "source": [
    "#### Now let's view the promotions for each market size"
   ]
  },
  {
   "cell_type": "code",
   "execution_count": 36,
   "metadata": {
    "colab": {
     "base_uri": "https://localhost:8080/",
     "height": 208
    },
    "colab_type": "code",
    "executionInfo": {
     "elapsed": 1746,
     "status": "ok",
     "timestamp": 1573997965632,
     "user": {
      "displayName": "Rajeev Ratan",
      "photoUrl": "https://lh3.googleusercontent.com/a-/AAuE7mCGo6aIm0tOcd5EhqWlYb0rime9sBvHS9YMpx0D2w=s64",
      "userId": "08597265227091462140"
     },
     "user_tz": 0
    },
    "id": "KQ_wDqmWSwLW",
    "outputId": "34725d40-119a-44fe-d560-9036535e9741"
   },
   "outputs": [
    {
     "data": {
      "text/plain": [
       "Campaigns  MarketSize\n",
       "1          Large          56\n",
       "           Medium         96\n",
       "           Small          20\n",
       "2          Large          64\n",
       "           Medium        108\n",
       "           Small          16\n",
       "3          Large          48\n",
       "           Medium        116\n",
       "           Small          24\n",
       "Name: OutletID, dtype: int64"
      ]
     },
     "execution_count": 36,
     "metadata": {},
     "output_type": "execute_result"
    }
   ],
   "source": [
    "df.groupby(['Campaigns', 'MarketSize']).count()['OutletID']"
   ]
  },
  {
   "cell_type": "code",
   "execution_count": 37,
   "metadata": {
    "colab": {
     "base_uri": "https://localhost:8080/",
     "height": 171
    },
    "colab_type": "code",
    "executionInfo": {
     "elapsed": 1454,
     "status": "ok",
     "timestamp": 1573997965633,
     "user": {
      "displayName": "Rajeev Ratan",
      "photoUrl": "https://lh3.googleusercontent.com/a-/AAuE7mCGo6aIm0tOcd5EhqWlYb0rime9sBvHS9YMpx0D2w=s64",
      "userId": "08597265227091462140"
     },
     "user_tz": 0
    },
    "id": "7XsltrtKiOf7",
    "outputId": "94f3880a-9301-46fd-9fca-cfeba26253b8"
   },
   "outputs": [
    {
     "data": {
      "text/html": [
       "<div>\n",
       "<style scoped>\n",
       "    .dataframe tbody tr th:only-of-type {\n",
       "        vertical-align: middle;\n",
       "    }\n",
       "\n",
       "    .dataframe tbody tr th {\n",
       "        vertical-align: top;\n",
       "    }\n",
       "\n",
       "    .dataframe thead th {\n",
       "        text-align: right;\n",
       "    }\n",
       "</style>\n",
       "<table border=\"1\" class=\"dataframe\">\n",
       "  <thead>\n",
       "    <tr style=\"text-align: right;\">\n",
       "      <th>MarketSize</th>\n",
       "      <th>Large</th>\n",
       "      <th>Medium</th>\n",
       "      <th>Small</th>\n",
       "    </tr>\n",
       "    <tr>\n",
       "      <th>Campaigns</th>\n",
       "      <th></th>\n",
       "      <th></th>\n",
       "      <th></th>\n",
       "    </tr>\n",
       "  </thead>\n",
       "  <tbody>\n",
       "    <tr>\n",
       "      <th>1</th>\n",
       "      <td>56</td>\n",
       "      <td>96</td>\n",
       "      <td>20</td>\n",
       "    </tr>\n",
       "    <tr>\n",
       "      <th>2</th>\n",
       "      <td>64</td>\n",
       "      <td>108</td>\n",
       "      <td>16</td>\n",
       "    </tr>\n",
       "    <tr>\n",
       "      <th>3</th>\n",
       "      <td>48</td>\n",
       "      <td>116</td>\n",
       "      <td>24</td>\n",
       "    </tr>\n",
       "  </tbody>\n",
       "</table>\n",
       "</div>"
      ],
      "text/plain": [
       "MarketSize  Large  Medium  Small\n",
       "Campaigns                       \n",
       "1              56      96     20\n",
       "2              64     108     16\n",
       "3              48     116     24"
      ]
     },
     "execution_count": 37,
     "metadata": {},
     "output_type": "execute_result"
    }
   ],
   "source": [
    "# Using unstack\n",
    "df.groupby(['Campaigns', 'MarketSize']).count()['OutletID'].unstack('MarketSize')"
   ]
  },
  {
   "cell_type": "markdown",
   "metadata": {},
   "source": [
    "#### 3.3 Breakdowns of Market Sizes across Different Campaigns"
   ]
  },
  {
   "cell_type": "code",
   "execution_count": 38,
   "metadata": {
    "colab": {
     "base_uri": "https://localhost:8080/",
     "height": 622
    },
    "colab_type": "code",
    "executionInfo": {
     "elapsed": 1861,
     "status": "ok",
     "timestamp": 1573997966382,
     "user": {
      "displayName": "Rajeev Ratan",
      "photoUrl": "https://lh3.googleusercontent.com/a-/AAuE7mCGo6aIm0tOcd5EhqWlYb0rime9sBvHS9YMpx0D2w=s64",
      "userId": "08597265227091462140"
     },
     "user_tz": 0
    },
    "id": "SoJNWkPAiqyc",
    "outputId": "3467fbfc-2ecd-4ceb-ca20-9577fbcf58f3"
   },
   "outputs": [
    {
     "data": {
      "image/png": "[encoded data removed]",
      "text/plain": [
       "<Figure size 1800x800 with 1 Axes>"
      ]
     },
     "metadata": {},
     "output_type": "display_data"
    }
   ],
   "source": [
    "# Creating the bar chart as described by the user\n",
    "ax = df.groupby(['Campaigns', 'MarketSize']).count()['OutletID'].unstack('MarketSize').plot(\n",
    "    kind='bar',\n",
    "    figsize=(18, 8),\n",
    "    grid=True\n",
    ")\n",
    "\n",
    "ax.tick_params(axis='x', labelsize=15)\n",
    "plt.xticks(rotation='horizontal')\n",
    "ax.tick_params(axis='y', labelsize=15)\n",
    "ax.set_ylabel('Count')\n",
    "ax.set_title('Breakdowns of Market Sizes across Different Campaigns', fontsize=20)\n",
    "\n",
    "# Display the actual count values on the bars\n",
    "for container in ax.containers:\n",
    "    ax.bar_label(container, label_type='edge', fontsize=12)\n",
    "\n",
    "plt.show()\n"
   ]
  },
  {
   "cell_type": "markdown",
   "metadata": {},
   "source": [
    "**Insights**:\n",
    "1. **Campaign 1**:\n",
    "   - The distribution across **Small**, **Medium**, and **Large** markets is relatively balanced.\n",
    "   - It has a consistent presence across all three market sizes, indicating that Campaign 1 targeted outlets of all market sizes equally.\n",
    "\n",
    "2. **Campaign 2**:\n",
    "   - There is a **significantly higher count in the Medium market** compared to the Small and Large markets.\n",
    "   - This suggests that Campaign 2 was more focused on or better received in medium-sized markets.\n",
    "\n",
    "3. **Campaign 3**:\n",
    "   - **Campaign 3 shows the largest count in the Medium market**.\n",
    "   - The number of outlets in the Medium market is notably higher than those in the Small and Large markets, suggesting that Campaign 3 was largely targeted at or performed best in medium-sizre another analysis?"
   ]
  },
  {
   "cell_type": "markdown",
   "metadata": {},
   "source": [
    "#### 3.4 Overall Distributions Outlet Ages"
   ]
  },
  {
   "cell_type": "code",
   "execution_count": 39,
   "metadata": {
    "colab": {
     "base_uri": "https://localhost:8080/",
     "height": 465
    },
    "colab_type": "code",
    "executionInfo": {
     "elapsed": 2437,
     "status": "ok",
     "timestamp": 1573997967593,
     "user": {
      "displayName": "Rajeev Ratan",
      "photoUrl": "https://lh3.googleusercontent.com/a-/AAuE7mCGo6aIm0tOcd5EhqWlYb0rime9sBvHS9YMpx0D2w=s64",
      "userId": "08597265227091462140"
     },
     "user_tz": 0
    },
    "id": "ALayjDr3iqyh",
    "outputId": "b488bea3-6c8e-4891-b83e-7e77ec898653"
   },
   "outputs": [
    {
     "data": {
      "image/png": "[encoded data removed]",
      "text/plain": [
       "<Figure size 1200x600 with 1 Axes>"
      ]
     },
     "metadata": {},
     "output_type": "display_data"
    }
   ],
   "source": [
    "ax = df.groupby('AgeofOutlets').count()['OutletID'].plot(\n",
    "    kind='bar', \n",
    "    figsize=(12,6),\n",
    "    grid=True)\n",
    "\n",
    "ax.set_xlabel('Age')\n",
    "ax.set_ylabel('Count')\n",
    "ax.set_title('Overall Distributions Outlet Ages')\n",
    "\n",
    "for container in ax.containers:\n",
    "    ax.bar_label(container, label_type='edge', fontsize=12)\n",
    "\n",
    "plt.show()"
   ]
  },
  {
   "cell_type": "markdown",
   "metadata": {},
   "source": [
    "### Key Insights:\n",
    "\n",
    "1. **Peak Ages**:\n",
    "   - **Age 1 year** has the **highest count with 80 outlets**. This suggests a significant recent expansion in the number of new outlets, indicating a strong push for growth or favorable market conditions leading to many new openings.\n",
    "   - This is much higher compared to other age groups, indicating that a majority of outlets in the dataset were established very recently.\n",
    "\n",
    "2. **Other High Counts**:\n",
    "   - **Ages 4 and 5 years** also have significant numbers44 3 and 22 outlets**, respectively. This suggests another notable growth period in the past, but not as substantial as the recent surge at3that time.\n",
    "\n",
    "4. **Older Outlets (Above 10 Years)**:\n",
    "   - Outlets older than **10 years** generally have lower counts, with **24 outlets at age 12** being an exception.\n",
    "   - The trend shows that there are fewer older outlets, which may indicate difficulties in sustaining operations over long periods, possibly due to changing market dynamics or increas4d competition.\n",
    "\n",
    "5. **Recent Expansion**:\n",
    "   - The very high count at **age 1 year** suggests that there has been a **recent push for rapid expansion**.\n",
    "   - This might be due to a strategic focus on growth, favorable market conditions, or the launch of a new campaign "
   ]
  },
  {
   "cell_type": "markdown",
   "metadata": {},
   "source": [
    "#### 3.5 Comparison of Outlet Ages by Market Size"
   ]
  },
  {
   "cell_type": "code",
   "execution_count": 40,
   "metadata": {},
   "outputs": [
    {
     "data": {
      "image/png": "[encoded data removed]",
      "text/plain": [
       "<Figure size 1200x800 with 1 Axes>"
      ]
     },
     "metadata": {},
     "output_type": "display_data"
    }
   ],
   "source": [
    "# Creating a boxplot to compare outlet ages by market size\n",
    "plt.figure(figsize=(12, 8))\n",
    "sns.boxplot(x='MarketSize', y='AgeofOutlets', data=df)\n",
    "plt.title('Comparison of Outlet Ages by Market Size', fontsize=20)\n",
    "plt.xlabel('Market Size', fontsize=15)\n",
    "plt.ylabel('Age of Outlets', fontsize=15)\n",
    "\n",
    "plt.show()\n"
   ]
  },
  {
   "cell_type": "markdown",
   "metadata": {},
   "source": [
    "The boxplot compares the **ages of outlets across different market sizes (Small, Medium, Large)**:\r\n",
    "\r\n",
    "### Insights:\r\n",
    "1. **Small Market Size**:\r\n",
    "   - The **median age** of outlets in the small market is higher compared to the other market sizes, suggesting that these outlets are relatively older.\r\n",
    "   - The **interquartile range (IQR)** for the small market is also wider, indicating more variability in outlet ages. This suggests that the small market consists of both newer and older outlets.\r\n",
    "\r\n",
    "2. **Medium Market Size**:\r\n",
    "   - Outlets in the **medium market** have a **lower median age** compared to the small market, implying that they are generally newer.\r\n",
    "   - The distribution is also skewed towards younger outlets, which could be a result of recent expansions or newly opened outlets targeting medium-sized markets.\r\n",
    "\r\n",
    "3. **Large Market Size**:\r\n",
    "   - The **large market** has the **youngest outlets on average**, with a lower median age compared to both the small and medium markets.\r\n",
    "   - The distribution is quite compact, with fewer older outlets, suggesting that the large market consists predominantly of recently established outlets. This could indicate a strategic focus on expanding into larger markets recently.\r\n",
    "\r\n",
    "### Summary:\r\n",
    "- **Small markets** tend to have **older outlets** with a higher median age and greater variability.\r\n",
    "- **Medium markets** have a mix of both older and newer outlets, but generally tend to skew towards younger ones.\r\n",
    "- **Large markets** have **newer outlets**, with a lower median age and a compand with the ANOVA test?"
   ]
  },
  {
   "cell_type": "markdown",
   "metadata": {},
   "source": [
    "#### 3.6 Stacked Distribution of Age of Outlets by Campaigns"
   ]
  },
  {
   "cell_type": "code",
   "execution_count": 41,
   "metadata": {},
   "outputs": [
    {
     "data": {
      "image/png": "[encoded data removed]",
      "text/plain": [
       "<Figure size 1400x1800 with 1 Axes>"
      ]
     },
     "metadata": {},
     "output_type": "display_data"
    }
   ],
   "source": [
    "# Creating a stacked bar chart to visualize the distribution of campaigns by outlet age more effectively\n",
    "ax = df.groupby(['AgeofOutlets', 'Campaigns']).count()['OutletID'].unstack('Campaigns').iloc[::-1].plot(\n",
    "    kind='barh',\n",
    "    figsize=(14, 18),\n",
    "    stacked=True,\n",
    "    grid=True,\n",
    "    color=['#1f77b4', '#ff7f0e', '#2ca02c']\n",
    ")\n",
    "\n",
    "ax.set_ylabel('Age of Outlets')\n",
    "ax.set_xlabel('Count')\n",
    "ax.set_title('Stacked Distribution of Age of Outlets by Campaigns', fontsize=20)\n",
    "\n",
    "# Display the actual count values on the bars for better clarity\n",
    "for container in ax.containers:\n",
    "    ax.bar_label(container, label_type='center', fontsize=10)\n",
    "\n",
    "plt.show()\n"
   ]
  },
  {
   "cell_type": "markdown",
   "metadata": {},
   "source": [
    "#### Key Insights:\n",
    "\n",
    "1. **Age 1 Year**:\n",
    "   - **Age 1** has the **highest count of outlets**, with contributions from all three campaigns.\n",
    "   - **Campaign 2** has contributed significantly, showing that this campaign has been focused on newer outlets, suggesting an emphasis on recent growth.\n",
    "\n",
    "2. The **stacked bar chart** provides a clear picture of how each campaign contributed across the different outlet ages.\n",
    "\n",
    "This visualization helps stakeholders easily understand the impact of each campaign across various outlet ages, supporting data-driven decisions on campaign adjustments or focus.\n",
    "\n"
   ]
  },
  {
   "cell_type": "markdown",
   "metadata": {},
   "source": [
    "#### 3.7 Summary statistics for Age of Outlets across the different campaigns"
   ]
  },
  {
   "cell_type": "code",
   "execution_count": 42,
   "metadata": {
    "colab": {
     "base_uri": "https://localhost:8080/",
     "height": 171
    },
    "colab_type": "code",
    "executionInfo": {
     "elapsed": 1916,
     "status": "ok",
     "timestamp": 1573997968061,
     "user": {
      "displayName": "Rajeev Ratan",
      "photoUrl": "https://lh3.googleusercontent.com/a-/AAuE7mCGo6aIm0tOcd5EhqWlYb0rime9sBvHS9YMpx0D2w=s64",
      "userId": "08597265227091462140"
     },
     "user_tz": 0
    },
    "id": "O7nhk6hqiqyp",
    "outputId": "e7a10493-976b-468c-f088-4d318288f0af"
   },
   "outputs": [
    {
     "data": {
      "text/html": [
       "<div>\n",
       "<style scoped>\n",
       "    .dataframe tbody tr th:only-of-type {\n",
       "        vertical-align: middle;\n",
       "    }\n",
       "\n",
       "    .dataframe tbody tr th {\n",
       "        vertical-align: top;\n",
       "    }\n",
       "\n",
       "    .dataframe thead th {\n",
       "        text-align: right;\n",
       "    }\n",
       "</style>\n",
       "<table border=\"1\" class=\"dataframe\">\n",
       "  <thead>\n",
       "    <tr style=\"text-align: right;\">\n",
       "      <th></th>\n",
       "      <th>count</th>\n",
       "      <th>mean</th>\n",
       "      <th>std</th>\n",
       "      <th>min</th>\n",
       "      <th>25%</th>\n",
       "      <th>50%</th>\n",
       "      <th>75%</th>\n",
       "      <th>max</th>\n",
       "    </tr>\n",
       "    <tr>\n",
       "      <th>Campaigns</th>\n",
       "      <th></th>\n",
       "      <th></th>\n",
       "      <th></th>\n",
       "      <th></th>\n",
       "      <th></th>\n",
       "      <th></th>\n",
       "      <th></th>\n",
       "      <th></th>\n",
       "    </tr>\n",
       "  </thead>\n",
       "  <tbody>\n",
       "    <tr>\n",
       "      <th>1</th>\n",
       "      <td>172.0</td>\n",
       "      <td>8.279070</td>\n",
       "      <td>6.636160</td>\n",
       "      <td>1.0</td>\n",
       "      <td>3.0</td>\n",
       "      <td>6.0</td>\n",
       "      <td>12.0</td>\n",
       "      <td>27.0</td>\n",
       "    </tr>\n",
       "    <tr>\n",
       "      <th>2</th>\n",
       "      <td>188.0</td>\n",
       "      <td>7.978723</td>\n",
       "      <td>6.597648</td>\n",
       "      <td>1.0</td>\n",
       "      <td>3.0</td>\n",
       "      <td>7.0</td>\n",
       "      <td>10.0</td>\n",
       "      <td>28.0</td>\n",
       "    </tr>\n",
       "    <tr>\n",
       "      <th>3</th>\n",
       "      <td>188.0</td>\n",
       "      <td>9.234043</td>\n",
       "      <td>6.651646</td>\n",
       "      <td>1.0</td>\n",
       "      <td>5.0</td>\n",
       "      <td>8.0</td>\n",
       "      <td>12.0</td>\n",
       "      <td>24.0</td>\n",
       "    </tr>\n",
       "  </tbody>\n",
       "</table>\n",
       "</div>"
      ],
      "text/plain": [
       "           count      mean       std  min  25%  50%   75%   max\n",
       "Campaigns                                                      \n",
       "1          172.0  8.279070  6.636160  1.0  3.0  6.0  12.0  27.0\n",
       "2          188.0  7.978723  6.597648  1.0  3.0  7.0  10.0  28.0\n",
       "3          188.0  9.234043  6.651646  1.0  5.0  8.0  12.0  24.0"
      ]
     },
     "execution_count": 42,
     "metadata": {},
     "output_type": "execute_result"
    }
   ],
   "source": [
    "df.groupby('Campaigns').describe()['AgeofOutlets']"
   ]
  },
  {
   "cell_type": "markdown",
   "metadata": {},
   "source": [
    "\r\n",
    "#### Insights from Descriptive Statistics:\r\n",
    "\r\n",
    "1. **Average Outlet Age (Mean)**:\r\n",
    "   - **Campaign 1**: The average outlet age is **8.28 years**.\r\n",
    "   - **Campaign 2**: The average outlet age is **7.98 years**.\r\n",
    "   - **Campaign 3**: The average outlet age is **9.23 years**.\r\n",
    "   - The average outlet ages for all three campaigns are relatively similar, ranging around **8 to 9 years**. This implies that the campaigns are targeting outlets with fairly comparable ages, and there isn't a major age bias across campaigns.\r\n",
    "\r\n",
    "2. **Standard Deviation (std)**:\r\n",
    "   - The **standard deviation** is similar across all campaigns (approximately **6.6** years), suggesting that the variability in outlet ages is consistent for each campaign.\r\n",
    "   - This indicates that the campaigns include both younger and older outlets, resulting in similar age distributions.\r\n",
    "\r\n",
    "3. **Minimum and Maximum Ages**:\r\n",
    "   - The **minimum outlet age** is **1 year** across all campaigns, indicating that every campaign includes newly opened outlets.\r\n",
    "   - The **maximum outlet age** varies slightly:\r\n",
    "     - **Campaign 1**: 27 years\r\n",
    "     - **Campaign 2**: 28 years\r\n",
    "     - **Campaign 3**: 24 years\r\n",
    "   - This shows that each campaign has a mix of outlets, from newly established ones to those that have been around for decades.\r\n",
    "\r\n",
    "4. **Median (50%) and Quartiles**:\r\n",
    "   - The **median (50%) age**:\r\n",
    "     - **Campaign 1**: **6 years**\r\n",
    "     - **Campaign 2**: **7 years**\r\n",
    "     - **Campaign 3**: **8 years**\r\n",
    "   - Most outlets are younger than the **median age** of **8 years**.\r\n",
    "   - The **25th percentile** (Q1) ranges from **3 to 5 years**, and the **75th percentile** (Q3) is around **10 to 12 years** for all campaigns. This suggests that the majority of outlets are between **3 and 12 years old**, with a concentration in# Summarynge.\r\n",
    "\r\n",
    "### Corrected Insights:\r\n",
    "- The **average outlet age** across all campaigns is around **8 to 9 years**. This means that, on average, the campaigns target outlets that have been operating for about 8 to 9 years.\r\n",
    "- There is **similarity in age profiles** for each campaign, as reflected by the close means and standard deviations.\r\n",
    "- **Most outlets are 10 to 12 years old or younger**, as indicated by the 75th percentile (Q3) value being around **10-12 years** for all campaigns.\r\n",
    "- The presence of younger outlets (e.g., **1 to 5 years old**) is significant, indicating that all campaigns are targeting recentled additional analysis, feel free to ask!"
   ]
  },
  {
   "cell_type": "markdown",
   "metadata": {
    "colab_type": "text",
    "id": "APnBnPBKUz2y"
   },
   "source": [
    "#### 4.**Statisical Analysis: Performing A/B Testing on Three Marketing Campaigns**\n",
    "\n",
    "#### 4.1 ANOVA Test:\n",
    "    - Conduct statistical tests, such as ANOVA, to compare sales between different campaigns.\n",
    "    - If ANOVA results indicate a significant difference, post-hoc tests (e.g., Tukey's HSD) can be used to find out which specific campaigns differ."
   ]
  },
  {
   "cell_type": "code",
   "execution_count": 43,
   "metadata": {},
   "outputs": [
    {
     "data": {
      "text/plain": [
       "F_onewayResult(statistic=21.953485793080677, pvalue=6.765849261408714e-10)"
      ]
     },
     "execution_count": 43,
     "metadata": {},
     "output_type": "execute_result"
    }
   ],
   "source": [
    "from scipy import stats\n",
    "\n",
    "# Extracting sales data for each campaign; containing the sales values for Campaign 1,2,and 3 outlets.\n",
    "sales_campaign_1 = df[df['Campaigns'] == 1]['SalesInThousands']\n",
    "sales_campaign_2 = df[df['Campaigns'] == 2]['SalesInThousands']\n",
    "sales_campaign_3 = df[df['Campaigns'] == 3]['SalesInThousands']\n",
    "\n",
    "# Performing ANOVA test to compare means of sales across the three campaigns\n",
    "anova_result = stats.f_oneway(sales_campaign_1, sales_campaign_2, sales_campaign_3)\n",
    "\n",
    "anova_result"
   ]
  },
  {
   "cell_type": "markdown",
   "metadata": {},
   "source": [
    "- Here, we use the f_oneway() function from the scipy.stats module to perform a one-way ANOVA test.\n",
    "- f_oneway() compares the means of two or more independent groups—in this case, the sales values of Campaign 1, Campaign 2, and Campaign 3.\n",
    "- The function takes the sales values for each campaign as separate arguments and calculates the F-statistic and p-value."
   ]
  },
  {
   "cell_type": "markdown",
   "metadata": {},
   "source": [
    "**The ANOVA test results are as follows:**\n",
    "\n",
    "- F-statistic: 21.95\n",
    "- p-value: 6.77e-10\n",
    "\n",
    "**Interpretation:**\n",
    "- The p-value is extremely small (much less than 0.05), indicating that there is a statistically significant difference in the mean sales among the three campaigns.\n",
    "- This means that at least one of the campaigns leads to significantly different sales compared to the others.\n"
   ]
  },
  {
   "cell_type": "markdown",
   "metadata": {},
   "source": [
    "#### 4.1.1 Proceeding with a Post-hoc analysis to identify which campaigns have significantly different sales."
   ]
  },
  {
   "cell_type": "code",
   "execution_count": 44,
   "metadata": {},
   "outputs": [
    {
     "name": "stdout",
     "output_type": "stream",
     "text": [
      " Multiple Comparison of Means - Tukey HSD, FWER=0.05 \n",
      "=====================================================\n",
      "group1 group2 meandiff p-adj   lower    upper  reject\n",
      "-----------------------------------------------------\n",
      "     1      2 -10.7696    0.0 -14.7738 -6.7654   True\n",
      "     1      3  -2.7345 0.2444  -6.7388  1.2697  False\n",
      "     2      3   8.0351    0.0   4.1208 11.9493   True\n",
      "-----------------------------------------------------\n"
     ]
    }
   ],
   "source": [
    "from statsmodels.stats.multicomp import pairwise_tukeyhsd\n",
    "\n",
    "# Performing Tukey's HSD post-hoc test\n",
    "tukey_result = pairwise_tukeyhsd(endog=df['SalesInThousands'], groups=df['Campaigns'], alpha=0.05)\n",
    "\n",
    "# Display the Tukey's HSD test results\n",
    "print(tukey_result)\n"
   ]
  },
  {
   "cell_type": "markdown",
   "metadata": {},
   "source": [
    "\r\n",
    "#### Summary of Tukey's HSD Test Results:\r\n",
    "\r\n",
    "1. **Comparison Between Campaign 1 and Campaign 2**:\r\n",
    "   - **Mean Difference**: **-10.77** (i.e., Campaign 2 has, on average, **10.77** thousand less sales compared to Campaig In other words, Campaign 1 had 10.77 thousand higher sales on average compared to Campaign 2.n 1).\r\n",
    "   - **p-adj** (p-value): **0.0**, which is less than **0.05**.\r\n",
    "   - **95% Confidence Interval**: **[-14.77, -6.77]**.\r\n",
    "   - **Reject Null Hypothesis**: **True**.\r\n",
    "   - **Interpretation**:\r\n",
    "     - There is a **statistically significant difference** between the mean sales of Campaign 1 and Campaign 2.\r\n",
    "     - Campaign 1 performed **significantly better** in terms of sales compared to Campaign 2.\r\n",
    "\r\n",
    "2. **Comparison Between Campaign 1 and Campaign 3**:\r\n",
    "   - **Mean Difference The mean difference between Campaign 1 and Campaign 3 is -2.7.**: **-2.73**.\r\n",
    "   - **p-adj** (p-value): **0.2444**, which is **greater than 0.05**.\r\n",
    "   - **95% Confidence Interval**: **[-6.74, 1.27]**.\r\n",
    "   - **Reject Null Hypothesis**: **False**.\r\n",
    "   - **Interpretation**:\r\n",
    "     - There is **no statistically significant difference** between the mean sales of Campaign 1 and Campaign 3.\r\n",
    "     - This means that Campaign 1 and Campaign 3 are **similar** in terms of sales performance, as the difference in their means is not significant.\r\n",
    "\r\n",
    "3. **Comparison Between Campaign 2 and Campaign 3**:\r\n",
    "   - **Mean Difference**: **8.04** (i.e., Campaign 3 has, on average, **8.04** thousand more sales c In other words, Campaign 3 had, on average, 8.04 thousand higher sales compared to Campaign 2. ompared to Campaign 2).\r\n",
    "   - **p-adj** (p-value): **0.0**, which is less than **0.05**.\r\n",
    "   - **95% Confidence Interval**: **[4.12, 11.95]**.\r\n",
    "   - **Reject Null Hypothesis**: **True**.\r\n",
    "   - **Interpretation**:\r\n",
    "     - There is a **statistically significant difference** between the mean sales of Campaign 2 and Campaign 3.\r\n",
    "     - Campaign 3 performed **significantly better** in terms of sales #compared to Campaign 2.\r\n",
    "\r\n",
    "### Key Insights and Analysis:\r\n",
    "1. **Campaign 2 Performance**:\r\n",
    "   - Campaign 2 had significantly **lower sales** compared to both Campaign 1 and Campaign 3.\r\n",
    "   - It might suggest that Campaign 2 is **less effective**, and the marketing strategy may need to be revised or optimized.\r\n",
    "\r\n",
    "2. **Similarity Between Campaign 1 and Campaign 3**:\r\n",
    "   - The mean sales of Campaign 1 and Campaign 3 are **not significantly different** from each other, indicating that both campaigns were equally effective.\r\n",
    "   - Campaign 1 and Campaign 3 could be considered as potentially **interchangeable** options, providing similar results.\r\n",
    "\r\n",
    "3. **Improvement Opportunities**:\r\n",
    "   - Given that Campaign 2 underperforms significantly, stakeholders should investigate why it did not perform as well. It could be due to the target audience, campaign design, or execution.\r\n",
    "   - Emphasizing **Campaign 1 or Campaign 3** in future marketing efforts could yield be#tter results compared to Campaign 2.\r\n",
    "\r\n",
    "### Conclusion:\r\n",
    "- **Campaign 1 and Campaign 3** are the better-performing campaigns with no significant differences in their average sales.\r\n",
    "- **Campaign 2** is the weakest performer, with significantly lower sales compared to the other two campaigns.\r\n",
    "- This analysis provides clear guidance for stakeholders to consider adjustments to Campaign 2 or to favor Camvide more recommendations based on this analysis?"
   ]
  },
  {
   "cell_type": "markdown",
   "metadata": {},
   "source": [
    "From the **Tukey HSD test** and the **plot**, we concluded that **Campaign 1 and Campaign 3** do not have a **statistically significant difference** in their average sales, meaning their performance is **similar** statistically. However, if we still want to determine which one might be performing **better** relative to each other, we can look into the following details:\n",
    "\n",
    "#### Determining Which Campaign Performs Better:\n",
    "\n",
    "1. **Mean Difference from Tukey HSD**:\n",
    "   - The **Tukey HSD test** provides a **mean difference** value for each pairwise comparison.\n",
    "   - For **Campaign 1 vs Campaign 3**, the mean difference indicates the **magnitude and direction** of the difference:\n",
    "     - If the mean difference is **positive**, it means that **Campaign 1** has higher average sales compared to **Campaign 3**.\n",
    "     - If the mean difference is **negative**, then **Campaign 3** has higher average sales compared to **Campaign 1**.\n",
    "\n",
    "2. **Look at the Tukey HSD Results**:\n",
    "   - Based on the **Tukey red earlier:\n",
    "     - **Campaign 1 vs Campaign 3** had a **mean difference** of approximately **-2.73**, with a **p-value of 0.2444**.\n",
    "   - Although the difference is **not statistically significant** (the p-value > 0.05), the **negative mean difference** indicates that **Campaign 3** has **slightly higher sales** compared to **Campaign 1** on average.\n",
    "   - However, the difference is not large enough to be considered statistically significant.\n",
    "\n",
    "3. **Practical Consideration**:\n",
    "   - From a practical standpoint, even though **Campaign 3** shows **slightly better average sales** compared to **Campaign 1**, the difference is **small** and could be due to **natural variability** in the data.\n",
    "   - The **confidence interval** crossing zero also suggests that the difference between **Campaign 1 and Campaign 3** is not consistent enough to declare one as definitively better than the other.\n",
    "\n",
    "#### Summary:\n",
    "- **Statistically**, there is **no significant difference** between **Campaign 1** and **Campaign 3**, meaning they are both equally effective.\n",
    "- **Campaign 3** has a **slightly higher average** sales value compared to **Campaign 1** (mean difference of **-2.73**).\n",
    "- Since the difference is **not statistically significant**, it is best to consider both campaigns as equally good from a data-doneen pesrspective.\n",
    "\n",
    "If you want to choose between **Campthen he or shen 1 and Campaign 3**, you could consider other factors, such as:\n",
    "- **Costs** associated with each campaign.\n",
    "- **ROI** (Return on Investment).\n",
    "- **Market Segments** targeted by each campaign.\n",
    "- **Operational ease** or **prefeecision based on these factors!"
   ]
  },
  {
   "cell_type": "code",
   "execution_count": null,
   "metadata": {},
   "outputs": [],
   "source": []
  },
  {
   "cell_type": "code",
   "execution_count": 45,
   "metadata": {},
   "outputs": [
    {
     "data": {
      "text/html": [
       "<div>\n",
       "<style scoped>\n",
       "    .dataframe tbody tr th:only-of-type {\n",
       "        vertical-align: middle;\n",
       "    }\n",
       "\n",
       "    .dataframe tbody tr th {\n",
       "        vertical-align: top;\n",
       "    }\n",
       "\n",
       "    .dataframe thead th {\n",
       "        text-align: right;\n",
       "    }\n",
       "</style>\n",
       "<table border=\"1\" class=\"dataframe\">\n",
       "  <thead>\n",
       "    <tr style=\"text-align: right;\">\n",
       "      <th></th>\n",
       "      <th>OutletID</th>\n",
       "      <th>MarketSize</th>\n",
       "      <th>AgeofOutlets</th>\n",
       "      <th>Campaigns</th>\n",
       "      <th>Week</th>\n",
       "      <th>SalesInThousands</th>\n",
       "    </tr>\n",
       "  </thead>\n",
       "  <tbody>\n",
       "    <tr>\n",
       "      <th>0</th>\n",
       "      <td>1</td>\n",
       "      <td>Medium</td>\n",
       "      <td>4</td>\n",
       "      <td>3</td>\n",
       "      <td>1</td>\n",
       "      <td>33.73</td>\n",
       "    </tr>\n",
       "    <tr>\n",
       "      <th>1</th>\n",
       "      <td>1</td>\n",
       "      <td>Medium</td>\n",
       "      <td>4</td>\n",
       "      <td>3</td>\n",
       "      <td>2</td>\n",
       "      <td>35.67</td>\n",
       "    </tr>\n",
       "  </tbody>\n",
       "</table>\n",
       "</div>"
      ],
      "text/plain": [
       "   OutletID MarketSize  AgeofOutlets  Campaigns  Week  SalesInThousands\n",
       "0         1     Medium             4          3     1             33.73\n",
       "1         1     Medium             4          3     2             35.67"
      ]
     },
     "execution_count": 45,
     "metadata": {},
     "output_type": "execute_result"
    }
   ],
   "source": [
    "df.head(2)"
   ]
  },
  {
   "cell_type": "code",
   "execution_count": 64,
   "metadata": {},
   "outputs": [
    {
     "name": "stdout",
     "output_type": "stream",
     "text": [
      "===== MEAN ====== \n",
      "Campaigns\n",
      "1    58.099012\n",
      "2    47.329415\n",
      "3    55.364468\n",
      "Name: SalesInThousands, dtype: float64\n",
      "\n",
      "===== STANDARD DEVIATION ====== \n",
      "Campaigns\n",
      "1    16.553782\n",
      "2    15.108955\n",
      "3    16.766231\n",
      "Name: SalesInThousands, dtype: float64\n",
      "\n",
      "===== OBSERVATIONS ====== \n",
      "Campaigns\n",
      "1    172\n",
      "2    188\n",
      "3    188\n",
      "Name: SalesInThousands, dtype: int64\n",
      "\n"
     ]
    }
   ],
   "source": [
    "df['SalesInThousands'] = pd.to_numeric(df['SalesInThousands'], errors='coerce')\n",
    "df.dropna(subset=['SalesInThousands'], inplace=True)\n",
    "df['Campaigns'] = df['Campaigns'].astype('category')\n",
    "\n",
    "means = df.groupby('Campaigns')['SalesInThousands'].mean()\n",
    "stdev = df.groupby('Campaigns')['SalesInThousands'].std()\n",
    "obs = df.groupby('Campaigns')['SalesInThousands'].count()\n",
    "\n",
    "# Print the results\n",
    "print(f'===== MEAN ====== \\n{means}\\n')\n",
    "print(f'===== STANDARD DEVIATION ====== \\n{stdev}\\n')\n",
    "print(f'===== OBSERVATIONS ====== \\n{obs}\\n')\n"
   ]
  },
  {
   "cell_type": "markdown",
   "metadata": {
    "colab_type": "text",
    "id": "BgAgZHlAVRsS"
   },
   "source": [
    "#### 4.2 Independent Samples T-Test:\n",
    "\n",
    "#### 4.2.1. 1st Campaign vs 2nd Campaign\n",
    "Specifically, I am comparing the mean sales between Campaign 1 and Campaign 2 to determine if there is a statistically significant difference between their average sales.\n",
    "\n",
    "**What Is an Independent Samples T-test?**\n",
    "\n",
    "An Independent Samples T-test is a statistical test used to compare the means of two independent groups to determine whether there is a significant difference between them. In this case, the two groups are Campaign 1 and Campaign 2, and the goal is to determine whether their mean sales (SalesInThousands) are significantly different.\n",
    "\n",
    "\n",
    "\n"
   ]
  },
  {
   "cell_type": "code",
   "execution_count": 53,
   "metadata": {
    "colab": {
     "base_uri": "https://localhost:8080/",
     "height": 52
    },
    "colab_type": "code",
    "executionInfo": {
     "elapsed": 593,
     "status": "ok",
     "timestamp": 1573998248738,
     "user": {
      "displayName": "Rajeev Ratan",
      "photoUrl": "https://lh3.googleusercontent.com/a-/AAuE7mCGo6aIm0tOcd5EhqWlYb0rime9sBvHS9YMpx0D2w=s64",
      "userId": "08597265227091462140"
     },
     "user_tz": 0
    },
    "id": "9viIzw-Tiqyz",
    "outputId": "007fc8b4-0fc0-4a1f-c352-65b7565a9899"
   },
   "outputs": [
    {
     "name": "stdout",
     "output_type": "stream",
     "text": [
      "t-value = 6.42752867090748\n",
      "p-value = 4.2903687179871785e-10\n"
     ]
    }
   ],
   "source": [
    "# Computing the t and p values using scipy \n",
    "\n",
    "t, p = stats.ttest_ind(df.loc[df['Campaigns'] == 1, 'SalesInThousands'].values,\n",
    "                       df.loc[df['Campaigns'] == 2, 'SalesInThousands'].values, \n",
    "                       equal_var=False)\n",
    "print(f't-value = {str(t)}')\n",
    "print(f'p-value = {str(p)}')"
   ]
  },
  {
   "cell_type": "markdown",
   "metadata": {},
   "source": [
    "**The test involves:**\n",
    "\n",
    "- Calculating a t-statistic (t) that measures the size of the difference relative to the variation in your data.\n",
    "- Producing a p-value (p), which helps determine if the observed difference is statistically significant."
   ]
  },
  {
   "cell_type": "markdown",
   "metadata": {},
   "source": [
    "Based on the results of the **independent samples t-test** you provided:\r\n",
    "\r\n",
    "- **t-value = 6.43**\r\n",
    "- **p-value = 4.29e-10**\r\n",
    "\r\n",
    "### Analysis of Results:\r\n",
    "\r\n",
    "1. **T-Value (`t = 6.43`)**:\r\n",
    "   - The **t-value** of **6.43** is relatively high, which suggests that the **difference between the means** of **Campaign 1** and **Campaign 2** is quite substantial compared to the variability within the groups.\r\n",
    "   - A higher **t-value** generally indicates a greater difference between the group means, relative to the standard deviation of the sample.\r\n",
    "\r\n",
    "2. **P-Value (`p = 4.29e-10`)**:\r\n",
    "   - The **p-value** is **4.29e-10**, which is **significantly less than 0.05** (commonly used significance level).\r\n",
    "   - Since the **p-value is very small** (essentially close to zero), you can **reject the null hypothesis**.\r\n",
    "   - This means that there is **strong evidence** to suggest that there is a **statistically significant difference** in the **average sales** between **Campaign 1** and **Campaign 2**.\r\n",
    "\r\n",
    "### Insights:\r\n",
    "\r\n",
    "1. **Significant Difference Between Campaign 1 and Campaign 2**:\r\n",
    "   - The **low p-value** indicates that the difference in mean sales between **Campaign 1** and **Campaign 2** is **not due to random chance**.\r\n",
    "   - Therefore, the two campaigns perform **significantly differently** in terms of sales, with one campaign being considerably more effectir if you have further questions, feel free to ask!"
   ]
  },
  {
   "cell_type": "markdown",
   "metadata": {},
   "source": [
    "**Which Campaign Is Performing Better `Campaign 1` OR `Campaign 2`:**"
   ]
  },
  {
   "cell_type": "code",
   "execution_count": 65,
   "metadata": {},
   "outputs": [
    {
     "name": "stdout",
     "output_type": "stream",
     "text": [
      "Mean Sales for Campaign 1: 58.09901162790698\n",
      "Mean Sales for Campaign 2: 47.32941489361702\n"
     ]
    }
   ],
   "source": [
    "# Calculate the mean sales for each campaign to determine which one performs better\n",
    "mean_sales = df.groupby('Campaigns')['SalesInThousands'].mean()\n",
    "\n",
    "# Display the mean sales for Campaign 1 and Campaign 2\n",
    "mean_sales_campaign_1 = mean_sales.loc[1]\n",
    "mean_sales_campaign_2 = mean_sales.loc[2]\n",
    "\n",
    "print(f'Mean Sales for Campaign 1: {mean_sales_campaign_1}')\n",
    "print(f'Mean Sales for Campaign 2: {mean_sales_campaign_2}')\n"
   ]
  },
  {
   "cell_type": "markdown",
   "metadata": {},
   "source": [
    "Based on the **mean sales** results for **Campaign 1** and **Campaign 2**:\n",
    "\n",
    "- **Mean Sales for Campaign 1**: **58.10 thousand**.\n",
    "- **Mean Sales for Campaign 2**: **47.33 thousand**.\n",
    "\n",
    "### Analysis and Insights:\n",
    "\n",
    "1. **Higher Mean Sales for Campaign 1**:\n",
    "   - **Campaign 1** has an average sales value of **58.10 thousand**, which is significantly higher compared to **Campaign 2**, which has an average of **47.33 thousand**.\n",
    "   - This indicates that **Campaign 1** is the **better-performing campaign** in terms of generating higher sales compared to **Campaign 2**.\n",
    "\n",
    "2. **Statistically Significant Difference**:\n",
    "   - From the results of the **t-test** you performed earlier, the **p-value** was extremely small (`4.29e-10`), indicating that the difference between the average sales of **Campaign 1** and **Campaign 2** is **statistically significant**.\n",
    "   - This means that the observed difference in average sales is **unlikely** to be due to random chance, and it is **reliable** to conclude that **Campaign 1** performs better.\n",
    "\n",
    "\n",
    "**Summary:**\n",
    "- Campaign 1 is the better-performing campaign, with a mean sales value of 58.10 thousand compared to 47.33 thousand for Campaign 2."
   ]
  },
  {
   "cell_type": "markdown",
   "metadata": {
    "colab_type": "text",
    "id": "c5Li9WaMVfZF"
   },
   "source": [
    "#### 4.2.2. 1st Campaign vs 3rd Campaign"
   ]
  },
  {
   "cell_type": "code",
   "execution_count": 66,
   "metadata": {
    "colab": {
     "base_uri": "https://localhost:8080/",
     "height": 52
    },
    "colab_type": "code",
    "executionInfo": {
     "elapsed": 640,
     "status": "ok",
     "timestamp": 1573998527053,
     "user": {
      "displayName": "Rajeev Ratan",
      "photoUrl": "https://lh3.googleusercontent.com/a-/AAuE7mCGo6aIm0tOcd5EhqWlYb0rime9sBvHS9YMpx0D2w=s64",
      "userId": "08597265227091462140"
     },
     "user_tz": 0
    },
    "id": "SLLtch3xiqy4",
    "outputId": "62ed7463-5720-4450-9b89-4b077af12649"
   },
   "outputs": [
    {
     "name": "stdout",
     "output_type": "stream",
     "text": [
      "t-value = 1.5560224307758634\n",
      "p-value = 0.12059147742229478\n"
     ]
    }
   ],
   "source": [
    "t, p = stats.ttest_ind(\n",
    "    df.loc[df['Campaigns'] == 1, 'SalesInThousands'].values, \n",
    "    df.loc[df['Campaigns'] == 3, 'SalesInThousands'].values, \n",
    "    equal_var = False)\n",
    "\n",
    "print(f't-value = {str(t)}')\n",
    "print(f'p-value = {str(p)}')"
   ]
  },
  {
   "cell_type": "markdown",
   "metadata": {},
   "source": [
    "### Analysis of the Results:\n",
    "\n",
    "1. **P-Value (`p = 0.1206`)**:\n",
    "   - The **p-value** is **0.1206**, which is **greater than 0.05** (commonly used significance level).\n",
    "   - Since the **p-value** is greater than **0.05**, it means that there is **no statistically significant difference** between the **mean sales** of **Campaign 1** and **Campaign 3**.\n",
    "   - This indicates that the difference observed between the two campaigns' average sales could be due to **random variation**, rather than a genuine difference in performance.\n",
    "\n",
    "2. **T-Value (`t = 1.56`)**:\n",
    "   - The **t-value** of **1.56** is relatively low, which suggests that the difference between the two groups is not substantial compared to the variability in the data.\n",
    "   - A **low t-value** typically means the difference between the means is small in relation to the variability of the groups.\n",
    "\n",
    "### Insights:\n",
    "\n",
    "1. **No Significant Difference Between Campaign 1 and Campaign 3**:\n",
    "   - The **p-value** suggests that there is **no significant difference** between the **mean sales** of **Campaign 1** and **Campaign 3**.\n",
    "   - This means that the performance of **Campaign 1** and **Campaign 3** in terms of sales is statistically similar, and we cannot conclude that one campaign is definitively better than the other based on this analysis.\n",
    "\n",
    "2. **Business Implications**:\n",
    "   - From a business perspective, since there is no statistically significant difference, it is likely that either **Campaign 1** or **Campaign 3** can be considered equally effective in generating sales.\n",
    "   - This provides some flexibility in terms of choosing which campaign to continue with. The decision could be made based on other considerations, such as **cost**, **ease of execution**, or **target audience preferences**."
   ]
  },
  {
   "cell_type": "code",
   "execution_count": 67,
   "metadata": {},
   "outputs": [
    {
     "name": "stdout",
     "output_type": "stream",
     "text": [
      "Mean Sales for Campaign 1: 58.09901162790698\n",
      "Mean Sales for Campaign 3: 55.36446808510639\n"
     ]
    }
   ],
   "source": [
    "# Calculate the mean sales for Campaign 1 and Campaign 3\n",
    "mean_sales = df.groupby('Campaigns')['SalesInThousands'].mean()\n",
    "\n",
    "# Get the mean sales for Campaign 1 and Campaign 3\n",
    "mean_sales_campaign_1 = mean_sales.loc[1]\n",
    "mean_sales_campaign_3 = mean_sales.loc[3]\n",
    "\n",
    "print(f'Mean Sales for Campaign 1: {mean_sales_campaign_1}')\n",
    "print(f'Mean Sales for Campaign 3: {mean_sales_campaign_3}')\n"
   ]
  },
  {
   "cell_type": "markdown",
   "metadata": {},
   "source": [
    "### Analysis:\n",
    "- **Mean Sales for Campaign 1**: **58.10 thousand**\n",
    "- **Mean Sales for Campaign 3**: **55.36 thousand**\n",
    "\n",
    "- **Campaign 1** has a **slightly higher mean sales** value compared to **Campaign 3**.\n",
    "- However, since the **p-value** from the t-test was **greater than 0.05**, the difference is **not statistically significant**, implying that **both campaigns** are likely to perform **similarly**.\n",
    "\n"
   ]
  },
  {
   "cell_type": "markdown",
   "metadata": {
    "colab_type": "text",
    "id": "c5Li9WaMVfZF"
   },
   "source": [
    "#### 4.2.3. 2nd Campaign vs 3rd Campaign"
   ]
  },
  {
   "cell_type": "code",
   "execution_count": 57,
   "metadata": {
    "colab": {
     "base_uri": "https://localhost:8080/",
     "height": 52
    },
    "colab_type": "code",
    "executionInfo": {
     "elapsed": 640,
     "status": "ok",
     "timestamp": 1573998527053,
     "user": {
      "displayName": "Rajeev Ratan",
      "photoUrl": "https://lh3.googleusercontent.com/a-/AAuE7mCGo6aIm0tOcd5EhqWlYb0rime9sBvHS9YMpx0D2w=s64",
      "userId": "08597265227091462140"
     },
     "user_tz": 0
    },
    "id": "SLLtch3xiqy4",
    "outputId": "62ed7463-5720-4450-9b89-4b077af12649"
   },
   "outputs": [
    {
     "name": "stdout",
     "output_type": "stream",
     "text": [
      "t-value = -4.88139271089348\n",
      "p-value = 1.5692733176039892e-06\n"
     ]
    }
   ],
   "source": [
    "t, p = stats.ttest_ind(\n",
    "    df.loc[df['Campaigns'] == 2, 'SalesInThousands'].values, \n",
    "    df.loc[df['Campaigns'] == 3, 'SalesInThousands'].values, \n",
    "    equal_var = False)\n",
    "\n",
    "print(f't-value = {str(t)}')\n",
    "print(f'p-value = {str(p)}')"
   ]
  },
  {
   "cell_type": "markdown",
   "metadata": {},
   "source": [
    "### Analysis of the Results:\n",
    "\n",
    "1. **P-Value (`p = 1.57e-06`)**:\n",
    "   - The **p-value** is **1.57e-06**, which is significantly **less than 0.05** (a commonly used significance level).\n",
    "   - Since the **p-value is very small**, it means that the difference between the mean sales of **Campaign 2** and **Campaign 3** is **statistically significant**.\n",
    "\n",
    "2. **T-Value (`t = -4.88`)**:\n",
    "   - The **t-value** of **-4.88** is quite large in magnitude, indicating a substantial difference between the mean sales of **Campaign 2** and **Campaign 3**.\n",
    "   - The **negative sign** of the t-value indicates the direction of the difference: in this case, **Campaign 2** has **lower average sales** compared to **Campaign 3**.\n",
    "\n",
    "### Insights:\n",
    "\n",
    "1. **Significant Difference Between Campaign 2 and Campaign 3**:\n",
    "   - The **p-value** indicates that there is a **statistically significant difference** in the sales performance of **Campaign 2** and **Campaign 3**.\n",
    "   - The **negative t-value** implies that **Campaign 2** is **underperforming** compared to **Campaign 3**.\n",
    "   - This means that the difference in average sales is large enough to confidently state that **Campaign 3** performs **better** than **Campaign 2**.\n",
    "\n",
    "2. **Campaign Performance**:\n",
    "   - **Campaign 3** has **higher mean sales** compared to **Campaign 2**, and the difference is significant.\n",
    "   - This suggests that **Campaign 3** is more effective in driving sales, making it the better campaign out of the two.\n",
    "  "
   ]
  },
  {
   "cell_type": "code",
   "execution_count": 68,
   "metadata": {},
   "outputs": [
    {
     "name": "stdout",
     "output_type": "stream",
     "text": [
      "Mean Sales for Campaign 2: 47.32941489361702\n",
      "Mean Sales for Campaign 3: 55.36446808510639\n"
     ]
    }
   ],
   "source": [
    "# Calculate the mean sales for Campaign 2 and Campaign 3\n",
    "mean_sales = df.groupby('Campaigns')['SalesInThousands'].mean()\n",
    "\n",
    "# Get the mean sales for Campaign 2 and Campaign 3\n",
    "mean_sales_campaign_2 = mean_sales.loc[2]\n",
    "mean_sales_campaign_3 = mean_sales.loc[3]\n",
    "\n",
    "# Print the mean sales for each campaign\n",
    "print(f'Mean Sales for Campaign 2: {mean_sales_campaign_2}')\n",
    "print(f'Mean Sales for Campaign 3: {mean_sales_campaign_3}')\n"
   ]
  },
  {
   "cell_type": "markdown",
   "metadata": {},
   "source": [
    "### Analysis:\n",
    "\n",
    "1. **Higher Mean Sales for Campaign 3**:\n",
    "   - **Campaign 3** has a **higher average sales value** (**55.36 thousand**) compared to **Campaign 2** (**47.33 thousand**).\n",
    "   - This indicates that **Campaign 3** is **outperforming** **Campaign 2** in terms of sales.\n",
    "\n",
    "2. **Campaign 3 Performs Better**:\n",
    "   - With **higher mean sales** and **statistical significance**, **Campaign 3** can be confidently considered the **better-performing campaign** compared to **Campaign 2**.\n",
    "   - **Campaign 3** is achieving better outcomes, which means it is effectively resonating with the audience, either due to better messaging, targeting, or incentives.\n"
   ]
  },
  {
   "cell_type": "markdown",
   "metadata": {},
   "source": [
    "### 5. **Drawing conclusions and Recommendations**"
   ]
  },
  {
   "cell_type": "markdown",
   "metadata": {},
   "source": [
    "Based on the analysis of the **three campaigns**—**Campaign 1**, **Campaign 2**, and **Campaign 3**—here are the insights and **recommendations** that can be presented to the stakeholders:\n",
    "\n",
    "#### 1. **Performance Overview**:\n",
    "- **Campaign 1** vs **Campaign 2**:\n",
    "  - **Campaign 1** had **higher mean sales** compared to **Campaign 2**.\n",
    "  - The **t-test** showed a **significant difference** between their sales, with **Campaign 1** clearly outperforming **Campaign 2**.\n",
    "- **Campaign 1** vs **Campaign 3**:\n",
    "  - The **mean sales** for **Campaign 1** were slightly higher compared to **Campaign 3**.\n",
    "  - However, the **t-test** indicated that the difference was **not statistically significant**. This means the two campaigns are **similar** in performance, and the difference could be due to random chance.\n",
    "- **Campaign 2** vs **Campaign 3**:\n",
    "  - **Campaign 3** had **significantly higher sales** compared to **Campaign 2**, as confirmed by the **t-test**.\n",
    "  - This indicates that **Campaign 3** is a significantly better performer than **Campaign 2**.\n",
    "\n",
    "#### 2. **Recommendations**:\n",
    "\n",
    "#### **Focus on Campaign 3**:\n",
    "- **Campaign 3** performed better than **Campaign 2** and similarly to **Campaign 1**.\n",
    "- **Recommendation**:\n",
    "  - Allocate more **resources** and **budget** to **Campaign 3** to expand its reach.\n",
    "  - Consider **scaling** this campaign and focusing on the elements that made it successful (e.g., the message, offer, or audience).\n",
    "\n",
    "#### **Optimize Campaign 1**:\n",
    "- **Campaign 1** performed **similarly** to **Campaign 3**, with slightly higher mean sales, but the difference was not statistically significant.\n",
    "- **Recommendation**:\n",
    "  - **Continue Campaign 1** with a similar level of investment as **Campaign 3**, but focus on identifying small improvements to boost its impact.\n",
    "  - Explore ways to **optimize** this campaign further, such as through **A/B testing** different creative elements or refining the **target audience**.\n",
    "\n",
    "#### **Re-Evaluate and Improve Campaign 2**:\n",
    "- **Campaign 2** was significantly outperformed by both **Campaign 1** and **Campaign 3**.\n",
    "- **Recommendation**:\n",
    "  - **Re-evaluate** Campaign 2 to determine what is causing the underperformance.\n",
    "  - Consider **reworking** the campaign's messaging, target audience, and value proposition to better align with what works for Campaign 1 and Campaign 3.\n",
    "  - Use elements that worked well in **Campaign 1** and **Campaign 3** to **revitalize Campaign 2**.\n",
    "  - Conduct **A/B testing** on different aspects of **Campaign 2** to see what changes might lead to improvements.\n",
    "\n",
    "### 3. **Additional Actions for All Campaigns**:\n",
    "\n",
    "#### **Review Target Audiences**:\n",
    "- Analyze the **target audience** for each campaign. Consider if **Campaign 2** may be underperforming due to targeting an audience that is less receptive to its message.\n",
    "- **Recommendation**:\n",
    "  - Refine **targeting** to ensure that each campaign is reaching an audience segment that is more likely to convert.\n",
    "\n",
    "#### **Monitor Return on Investment (ROI)**:\n",
    "- Beyond just sales figures, it is important to also consider the **ROI** of each campaign.\n",
    "- **Recommendation**:\n",
    "  - Calculate the **ROI** for each campaign to understand the efficiency of the marketing spend.\n",
    "  - Invest more in campaigns that generate a high return on investment and consider reworking or dropping campaigns with low ROI.\n",
    "\n",
    "#### **Customer Feedback and Engagement Analysis**:\n",
    "- Analyze **customer feedback** and **engagement** with each campaign to understand what resonates well with the audience.\n",
    "- **Recommendation**:\n",
    "  - Use customer surveys, social media feedback, or other qualitative insights to understand **why Campaign 3** performs better and **Campaign 2** underperforms.\n",
    "  - Use these insights to make data-driven improvements.\n",
    "\n"
   ]
  },
  {
   "cell_type": "code",
   "execution_count": null,
   "metadata": {},
   "outputs": [],
   "source": []
  }
 ],
 "metadata": {
  "colab": {
   "collapsed_sections": [],
   "name": "18.0 Case Study 9 - AB Testing.ipynb",
   "provenance": [
    {
     "file_id": "1vFy9KQ5ILPKPp-1wNjNtZprg_vr9Goqd",
     "timestamp": 1573158327351
    }
   ]
  },
  "kernelspec": {
   "display_name": "Python 3 (ipykernel)",
   "language": "python",
   "name": "python3"
  },
  "language_info": {
   "codemirror_mode": {
    "name": "ipython",
    "version": 3
   },
   "file_extension": ".py",
   "mimetype": "text/x-python",
   "name": "python",
   "nbconvert_exporter": "python",
   "pygments_lexer": "ipython3",
   "version": "3.11.7"
  }
 },
 "nbformat": 4,
 "nbformat_minor": 4
}
